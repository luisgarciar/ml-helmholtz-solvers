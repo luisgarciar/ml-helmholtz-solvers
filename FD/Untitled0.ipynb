{
 "metadata": {
  "name": "",
  "signature": "sha256:630930baaaf922b2846dd24acd9182825a20744886ec3b5d932f395ee2cc4934"
 },
 "nbformat": 3,
 "nbformat_minor": 0,
 "worksheets": [
  {
   "cells": [
    {
     "cell_type": "code",
     "collapsed": false,
     "input": [
      "from IPython.display import display\n",
      "from sympy import *\n",
      "from sympy.interactive import printing\n",
      "printing.init_printing()\n",
      "import sympy as sym\n",
      "\n",
      "u = Symbol(\"\\tilde{u}\",complex=True)\n",
      "k = Symbol(\"k\",real=True,positive=True)\n",
      "x = Symbol(\"x\",real=True)\n",
      "y = Symbol(\"y\",real=True)\n",
      "m = Symbol(\"m\",real=True)\n",
      "n = Symbol(\"n\",real=True)"
     ],
     "language": "python",
     "metadata": {},
     "outputs": [],
     "prompt_number": 1
    },
    {
     "cell_type": "markdown",
     "metadata": {},
     "source": [
      "In this notebook we compute given a solution $u$ a right hand side $f$ for the Helmholtz boundary value problem \n",
      "\\begin{align}\n",
      "-u''-k^2u&=f \\text{ in } \\Omega= (0,1) ,\\\\\n",
      "u &=0 \\text{ on } \\partial\\Omega \\\\\n",
      "\\end{align}\n",
      "\n",
      " Let $u=x(x-1)^2$, then $f=-u''-k^2u$ is given by"
     ]
    },
    {
     "cell_type": "code",
     "collapsed": false,
     "input": [
      "u = x*(x-1)**2*(y**2)*(y-1)\n",
      "f = -diff(u,x,x)-diff(u,y,y)-k**2*u\n",
      "simplify(f)"
     ],
     "language": "python",
     "metadata": {},
     "outputs": [
      {
       "latex": [
        "$$- k^{2} x y^{2} \\left(x - 1\\right)^{2} \\left(y - 1\\right) - 2 x \\left(x - 1\\right)^{2} \\left(3 y - 1\\right) - 2 y^{2} \\left(3 x - 2\\right) \\left(y - 1\\right)$$"
       ],
       "metadata": {},
       "output_type": "pyout",
       "png": "[encoded data removed]",
       "prompt_number": 7,
       "text": [
        "   2    2        2                      2                2                  \n",
        "- k \u22c5x\u22c5y \u22c5(x - 1) \u22c5(y - 1) - 2\u22c5x\u22c5(x - 1) \u22c5(3\u22c5y - 1) - 2\u22c5y \u22c5(3\u22c5x - 2)\u22c5(y - 1)"
       ]
      }
     ],
     "prompt_number": 7
    },
    {
     "cell_type": "code",
     "collapsed": false,
     "input": [],
     "language": "python",
     "metadata": {},
     "outputs": []
    }
   ],
   "metadata": {}
  }
 ]
}