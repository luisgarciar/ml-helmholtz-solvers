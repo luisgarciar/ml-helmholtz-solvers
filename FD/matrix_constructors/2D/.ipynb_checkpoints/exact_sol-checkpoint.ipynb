{
 "metadata": {
  "name": "",
  "signature": "sha256:2848892e1a938d380d1facfb88358360d9cc012a6afdf8b3edc3fcb2c183c81d"
 },
 "nbformat": 3,
 "nbformat_minor": 0,
 "worksheets": [
  {
   "cells": [
    {
     "cell_type": "code",
     "collapsed": false,
     "input": [
      "from IPython.display import display\n",
      "from sympy import *\n",
      "from sympy.interactive import printing\n",
      "printing.init_printing()\n",
      "import sympy as sym\n",
      "\n",
      "u = Symbol(\"\\tilde{u}\",complex=True)\n",
      "k = Symbol(\"k\",real=True,positive=True)\n",
      "x = Symbol(\"x\",real=True)\n",
      "y = Symbol(\"y\",real=True)\n",
      "m = Symbol(\"m\",real=True)\n",
      "n = Symbol(\"n\",real=True)"
     ],
     "language": "python",
     "metadata": {},
     "outputs": [],
     "prompt_number": 1
    },
    {
     "cell_type": "markdown",
     "metadata": {},
     "source": [
      "In this notebook we compute given a solution $u$ a right hand side $f$ for the Helmholtz boundary value problem \n",
      "\\begin{align}\n",
      "-u''-k^2u&=f \\text{ in } \\Omega= (0,1)\\times(0,1) ,\\\\\n",
      "u &=0 \\text{ on } \\partial\\Omega \\\\\n",
      "\\end{align}\n",
      "\n",
      "Let $u=\\sin(m\\pi  x)\\sin(n\\pi y)$, then $f=-\\partial_{xx}u-\\partial_{yy}u-k^2u$ is given by"
     ]
    },
    {
     "cell_type": "code",
     "collapsed": false,
     "input": [
      "u = sin(m*pi*x)*sin(n*pi*y)\n",
      "f = simplify(-diff(u,x,x)-diff(u,y,y)-k**2*u)\n",
      "f"
     ],
     "language": "python",
     "metadata": {},
     "outputs": [
      {
       "latex": [
        "$$\\left(- k^{2} + \\pi^{2} m^{2} + \\pi^{2} n^{2}\\right) \\sin{\\left (\\pi m x \\right )} \\sin{\\left (\\pi n y \\right )}$$"
       ],
       "metadata": {},
       "output_type": "pyout",
       "png": "[encoded data removed]",
       "prompt_number": 6,
       "text": [
        "\u239b   2    2  2    2  2\u239e                      \n",
        "\u239d- k  + \u03c0 \u22c5m  + \u03c0 \u22c5n \u23a0\u22c5sin(\u03c0\u22c5m\u22c5x)\u22c5sin(\u03c0\u22c5n\u22c5y)"
       ]
      }
     ],
     "prompt_number": 6
    },
    {
     "cell_type": "code",
     "collapsed": false,
     "input": [],
     "language": "python",
     "metadata": {},
     "outputs": [],
     "prompt_number": 3
    }
   ],
   "metadata": {}
  }
 ]
}