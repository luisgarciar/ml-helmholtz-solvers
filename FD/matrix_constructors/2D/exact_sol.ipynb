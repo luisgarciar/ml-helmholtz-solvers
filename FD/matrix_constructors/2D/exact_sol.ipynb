{
 "metadata": {
  "name": "",
  "signature": "sha256:b0110b6a1d2b9255fb3284b9c01eb2786779d2410c837eb4e74b075c0584880e"
 },
 "nbformat": 3,
 "nbformat_minor": 0,
 "worksheets": [
  {
   "cells": [
    {
     "cell_type": "code",
     "collapsed": false,
     "input": [
      "from IPython.display import display\n",
      "from sympy import *\n",
      "from sympy.interactive import printing\n",
      "printing.init_printing()\n",
      "import sympy as sym\n",
      "\n",
      "u = Symbol(\"\\tilde{u}\",complex=True)\n",
      "k = Symbol(\"k\",real=True,positive=True)\n",
      "x = Symbol(\"x\",real=True)\n",
      "y = Symbol(\"y\",real=True)"
     ],
     "language": "python",
     "metadata": {},
     "outputs": [],
     "prompt_number": 15
    },
    {
     "cell_type": "markdown",
     "metadata": {},
     "source": [
      "In this notebook we compute given a solution $u$ a right hand side $f$ for the Helmholtz boundary value problem \n",
      "\\begin{align}\n",
      "-u''-k^2u&=f \\text{ in } \\Omega= (0,1)\\times(0,1) ,\\\\\n",
      "u &=0 \\text{ on } \\partial\\Omega \\\\\n",
      "\\end{align}\n",
      "\n",
      "Let $u=\\sin(2\\pi  x)sin(3\\pi y)$, then $f=-\\partial_{xx}u-\\partial_{yy}u-k^2u$ is given by"
     ]
    },
    {
     "cell_type": "code",
     "collapsed": false,
     "input": [
      "u = sin(2*pi*x)*sin(3*pi*y)\n",
      "f = simplify(-diff(u,x,x)-diff(u,y,y)-k**2*u)\n",
      "f"
     ],
     "language": "python",
     "metadata": {},
     "outputs": [
      {
       "latex": [
        "$$\\left(- k^{2} + 13 \\pi^{2}\\right) \\sin{\\left (2 \\pi x \\right )} \\sin{\\left (3 \\pi y \\right )}$$"
       ],
       "metadata": {},
       "output_type": "pyout",
       "png": "[encoded data removed]",
       "prompt_number": 16,
       "text": [
        "\u239b   2       2\u239e                      \n",
        "\u239d- k  + 13\u22c5\u03c0 \u23a0\u22c5sin(2\u22c5\u03c0\u22c5x)\u22c5sin(3\u22c5\u03c0\u22c5y)"
       ]
      }
     ],
     "prompt_number": 16
    },
    {
     "cell_type": "code",
     "collapsed": false,
     "input": [
      "-diff(u,x,x)-diff(u,y,y)-k**2*u"
     ],
     "language": "python",
     "metadata": {},
     "outputs": [
      {
       "latex": [
        "$$- k^{2} \\sin{\\left (2 \\pi x \\right )} \\sin{\\left (3 \\pi y \\right )} + 13 \\pi^{2} \\sin{\\left (2 \\pi x \\right )} \\sin{\\left (3 \\pi y \\right )}$$"
       ],
       "metadata": {},
       "output_type": "pyout",
       "png": "[encoded data removed]",
       "prompt_number": 22,
       "text": [
        "   2                             2                      \n",
        "- k \u22c5sin(2\u22c5\u03c0\u22c5x)\u22c5sin(3\u22c5\u03c0\u22c5y) + 13\u22c5\u03c0 \u22c5sin(2\u22c5\u03c0\u22c5x)\u22c5sin(3\u22c5\u03c0\u22c5y)"
       ]
      }
     ],
     "prompt_number": 22
    },
    {
     "cell_type": "code",
     "collapsed": false,
     "input": [],
     "language": "python",
     "metadata": {},
     "outputs": []
    }
   ],
   "metadata": {}
  }
 ]
}