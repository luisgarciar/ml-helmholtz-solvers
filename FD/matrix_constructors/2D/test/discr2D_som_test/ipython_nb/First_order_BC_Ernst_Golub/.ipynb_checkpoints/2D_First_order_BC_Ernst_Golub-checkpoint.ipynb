{
 "cells": [
  {
   "cell_type": "code",
   "execution_count": 4,
   "metadata": {
    "collapsed": true
   },
   "outputs": [],
   "source": [
    "from IPython.display import display\n",
    "from sympy import *\n",
    "from IPython.display import display\n",
    "from sympy.interactive import printing\n",
    "printing.init_printing()"
   ]
  },
  {
   "cell_type": "markdown",
   "metadata": {},
   "source": [
    "In this notebook we compute the stencils for the finite difference discretization of the Helmholtz boundary value problem with Sommerfeld boundary conditions in $\\Omega=(0,1)^2$:\n",
    "\\begin{align*}-\\Delta u - k^2 u &= f \\text{ in $\\Omega$}\\\\\n",
    " \\partial_{n}u - iku &=g \\text{ on $\\partial \\Omega$}.\n",
    "\\end{align*}\n",
    "\n",
    "We will follow the method of ghost points to eliminate the boundary conditions, and for uniform grids our discretization coincides with the one used by Ernst and Golub in \"A Domain Decomposition Approach to Solving the Helmholtz Equation with a Radiation Boundary Condition\".\n",
    "\n",
    "Let $n_x,n_y$ be the number of interior points in the $x$ and $y$ directions (including the endpoints), $h_x=1/(n_x+1), h_y=1/(n_y+1)$ and $G=\\{(x_i,y_j): 0 \\leq i \\leq n_x+1, 1 \\leq j \\leq n_y+1\\}$ be the corresponding grid. We first compute the equations for the interior points."
   ]
  },
  {
   "cell_type": "code",
   "execution_count": 5,
   "metadata": {
    "collapsed": true
   },
   "outputs": [],
   "source": [
    "uim1j, uip1j, uijm1, uijp1, uij, fij  = symbols(\"u_{(i-1\\,j)}, u_{(i+1\\,j)}, u_{(i\\,j-1)}, u_{(i\\,j+1)}, u_{(i\\,j)}, f_{(i\\,j)}\"); \n",
    "hx, hy, kij = symbols(\"h_x,h_y, k_ij\")"
   ]
  },
  {
   "cell_type": "code",
   "execution_count": 3,
   "metadata": {},
   "outputs": [
    {
     "data": {
      "image/png": "[encoded data removed]",
      "text/latex": [
       "$$- h_{x}^{2} u_{(i,j+1)} - h_{x}^{2} u_{(i,j-1)} - h_{y}^{2} u_{(i+1,j)} - h_{y}^{2} u_{(i-1,j)} + u_{(i,j)} \\left(- h_{x}^{2} h_{y}^{2} k_{ij}^{2} + 2 h_{x}^{2} + 2 h_{y}^{2}\\right)$$"
      ],
      "text/plain": [
       "    2                 2                  2                  2                 \n",
       "- hₓ ⋅u_{(i,j+1)} - hₓ ⋅u_{(i,j-1)} - h_y ⋅u_{(i+1,j)} - h_y ⋅u_{(i-1,j)} + u_\n",
       "\n",
       "        ⎛    2    2     2       2        2⎞\n",
       "{(i,j)}⋅⎝- hₓ ⋅h_y ⋅k_ij  + 2⋅hₓ  + 2⋅h_y ⎠"
      ]
     },
     "execution_count": 3,
     "metadata": {},
     "output_type": "execute_result"
    }
   ],
   "source": [
    "fij=2*((hx**2+hy**2)/(hx*hy)**2-kij**2/2)*uij- hy**2*(uim1j+uip1j)/(hx*hy)**2-hx**2*(uijm1+uijp1)/(hx*hy)**2\n",
    "simplify(collect(expand(fij*hx**2*hy**2),[uij,uijm1,uijp1,uim1j,uip1j]))"
   ]
  },
  {
   "cell_type": "markdown",
   "metadata": {},
   "source": [
    "For the point $x_{ij}=(ih_x,jh_y)$, we obtain the following equation  $$f_{ij}h_{x}^{2}h_{y}^{2}=- h_{x}^{2} \\left(u_{{(i,j+1)}} + u_{{(i,j-1)}}\\right) - h_{y}^{2} \\left(u_{{(i+1,j)}} + u_{{(i-1,j)}}\\right) + u_{{(i,j)}} \\left(- h_{x}^{2} h_{y}^{2} k_{ij}^{2} + 2 h_{x}^{2} + 2 h_{y}^{2}\\right),$$\n",
    "equivalent to,\n",
    "$$ f_{ij}=- h_{y}^{-2} \\left(u_{{(i,j+1)}} + u_{{(i,j-1)}}\\right) - h_{x}^{-2} \\left(u_{{(i+1,j)}} + u_{{(i-1,j)}}\\right) + u_{{(i,j)}} \\left(-k_{ij}^{2} + 2 h_{y}^{-2} + 2 h_{x}^{-2}\\right)$$"
   ]
  },
  {
   "cell_type": "markdown",
   "metadata": {},
   "source": [
    "We set now the linear equation for the non-corner points on the boundary. We begin with points of the form $x_{(0,j)}=(0,jh_y)$ on the west boundary $(x=0, 1<y<1)$. At the point $x_{(0,j)}$ the boundary condition equals $-u_{x(0,j)}-ik_{(0,j)}u_{(0,j)}=g_{(0,j)}$. We approximate the derivative with first order backward differences and obtain\n",
    "$$u_{x(0,j)}=h_x^{-1}(u_{(0,j)}-u_{(-1,j)})+O(h_x)$$"
   ]
  },
  {
   "cell_type": "code",
   "execution_count": 6,
   "metadata": {
    "collapsed": true
   },
   "outputs": [],
   "source": [
    "ux0j, uxx0j, uyy0j = symbols(\"u_{x}{(0\\,j)},u_{xx(0\\,j)},u_{yy(0\\,j)}\")\n",
    "um1j, u0j, u0jp1,u0jm1,u1j = symbols(\"u_{(-1\\,j)}, u_{(0\\,j)},u_{(0\\,j+1)},u_{(0\\,j-1)},u_{(1\\,j)}\")\n",
    "hx, k0j, f0j, ii, g0j = symbols(\"h_x, k_{(0\\,j)},f_{(0\\,j)},i,g_{(0\\,j)}\")"
   ]
  },
  {
   "cell_type": "code",
   "execution_count": 7,
   "metadata": {},
   "outputs": [
    {
     "data": {
      "image/png": "[encoded data removed]",
      "text/latex": [
       "$$\\frac{1}{h_{x}} \\left(- u_{(-1,j)} + u_{(0,j)}\\right)$$"
      ],
      "text/plain": [
       "-u_{(-1,j)} + u_{(0,j)}\n",
       "───────────────────────\n",
       "           hₓ          "
      ]
     },
     "execution_count": 7,
     "metadata": {},
     "output_type": "execute_result"
    }
   ],
   "source": [
    "ux0j = (u0j-um1j)/hx; ux0j"
   ]
  },
  {
   "cell_type": "markdown",
   "metadata": {},
   "source": [
    "The value $u_{(-1,j)}$ for the ghost point can be eliminated using the boundary condition\n",
    " $$-u_{x(0,j)}-ik_{(0,j)}u_{(0,j)}=g_{(0,j)},$$ substituting the approximate value $-u_{x(0,j)} =\\frac{1}{h_{x}} \\left(u_{(-1,j)} - u_{(0,j)}\\right)$ leads to"
   ]
  },
  {
   "cell_type": "code",
   "execution_count": 8,
   "metadata": {
    "scrolled": true
   },
   "outputs": [
    {
     "data": {
      "image/png": "[encoded data removed]",
      "text/latex": [
       "$$- i k_{(0,j)} u_{(0,j)} - \\frac{1}{h_{x}} \\left(- u_{(-1,j)} + u_{(0,j)}\\right)$$"
      ],
      "text/plain": [
       "                         -u_{(-1,j)} + u_{(0,j)}\n",
       "-i⋅k_{(0,j)}⋅u_{(0,j)} - ───────────────────────\n",
       "                                    hₓ          "
      ]
     },
     "execution_count": 8,
     "metadata": {},
     "output_type": "execute_result"
    }
   ],
   "source": [
    "g0j = - ux0j - ii*k0j*u0j; g0j"
   ]
  },
  {
   "cell_type": "markdown",
   "metadata": {},
   "source": [
    "Solving for $u_{(-1,j)}$ we obtain\n",
    "$$u_{(-1,j)} = g_{(0,j)}h_x + (ik h_x - 1) u_{(0,j)},$$\n",
    "and substituting this expression in the equation for the point $x_{(0,j)}$ we obtain"
   ]
  },
  {
   "cell_type": "code",
   "execution_count": 8,
   "metadata": {},
   "outputs": [
    {
     "data": {
      "image/png": "[encoded data removed]",
      "text/latex": [
       "$$- \\frac{g_{(0,j)}}{h_{x}} + u_{(0,j)} \\left(- k_{(0,j)}^{2} + \\frac{2}{h_{y}^{2}} - \\frac{i k_{(0,j)}}{h_{x}} + \\frac{1}{h_{x}^{2}}\\right) - \\frac{u_{(0,j+1)}}{h_{y}^{2}} - \\frac{u_{(0,j-1)}}{h_{y}^{2}} - \\frac{u_{(1,j)}}{h_{x}^{2}}$$"
      ],
      "text/plain": [
       "  g_{(0,j)}             ⎛           2    2     i⋅k_{(0,j)}    1 ⎞   u_{(0,j+1)\n",
       "- ───────── + u_{(0,j)}⋅⎜- k_{(0,j)}  + ──── - ─────────── + ───⎟ - ──────────\n",
       "      hₓ                ⎜                  2        hₓ         2⎟          2  \n",
       "                        ⎝               h_y                  hₓ ⎠       h_y   \n",
       "\n",
       "}   u_{(0,j-1)}   u_{(1,j)}\n",
       "─ - ─────────── - ─────────\n",
       "           2           2   \n",
       "        h_y          hₓ    "
      ]
     },
     "execution_count": 8,
     "metadata": {},
     "output_type": "execute_result"
    }
   ],
   "source": [
    "um1j = g0j*hx + (ii*k0j*hx+1)*u0j\n",
    "f0j = -(u0jp1+u0jm1)/hy**2 -(u1j+um1j)/hx**2+u0j*(-k0j**2+2/hy**2\n",
    "                                                +2/hx**2)\n",
    "collect(simplify(f0j),[u0j,u0jp1,u1j])"
   ]
  },
  {
   "cell_type": "markdown",
   "metadata": {},
   "source": [
    "The equation at the point $x_{(0,j)}$ is\n",
    "\n",
    "$$ f_{(0,j)} + \\frac{g_{(0,j)}}{h_{x}} = u_{(0,j)} \\left(- k_{(0,j)}^{2} + \\frac{2}{h_{y}^{2}} + \\frac{1}{h_{x}^{2}}   - \\frac{i k_{(0,j)}}{h_{x}} \\right) - \\frac{u_{(0,j+1)}}{h_{y}^{2}} - \\frac{u_{(0,j-1)}}{h_{y}^{2}} - \\frac{u_{(1,j)}}{h_{x}^{2}}$$\n"
   ]
  },
  {
   "cell_type": "markdown",
   "metadata": {},
   "source": [
    "On the south boundary, we have (non-corner) points of the form $(ih_x,0)$, where $0<i<n_x$. At the point $x_{(i,0)}$, the boundary condition is $$−u_{y(i,0)}−ik_{(i,0)}u_{(i,0)}=0,$$ and the equation for this point is\n",
    "\n",
    "$$f_{(i,0)}=- h_{y}^{-2} \\left(u_{{(i,1)}} + u_{{(i,-1)}}\\right) - h_{x}^{-2} \\left(u_{{(i+1,0)}} + u_{{(i-1,0)}}\\right) + u_{{(i,0)}} \\left(-k_{(i,0)}^{2} + 2 h_{y}^{-2} + 2 h_{x}^{-2}\\right)$$\n"
   ]
  },
  {
   "cell_type": "markdown",
   "metadata": {},
   "source": [
    "We approximate the derivative $u_{y(i,0)}$ with backward differences and obtain\n",
    "$$u_{y(i,0)}=h_y^{-1}(u_{(i,0)}-u_{(i,-1)})+O(h_y)$$"
   ]
  },
  {
   "cell_type": "code",
   "execution_count": 9,
   "metadata": {
    "collapsed": true
   },
   "outputs": [],
   "source": [
    "uyi0 = symbols(\"u_{y(i\\,0)}\")\n",
    "ui0, uip10,uim10,ui1,uim1 = symbols(\"u_{(i\\,0)}, u_{(i+1\\,0)}, u_{(i-1\\,0)},u_{(i\\,1)},u_{(i\\,-1)}\")\n",
    "hy = symbols(\"h_y\")\n",
    "gi0,ki0,fi0 = symbols(\"g_{(i\\,0)},k_{(i\\,0)},f_{(i\\,0)}\")"
   ]
  },
  {
   "cell_type": "code",
   "execution_count": 10,
   "metadata": {},
   "outputs": [
    {
     "data": {
      "image/png": "[encoded data removed]",
      "text/latex": [
       "$$\\frac{1}{h_{y}} \\left(- u_{(i,-1)} + u_{(i,0)}\\right)$$"
      ],
      "text/plain": [
       "-u_{(i,-1)} + u_{(i,0)}\n",
       "───────────────────────\n",
       "          h_y          "
      ]
     },
     "execution_count": 10,
     "metadata": {},
     "output_type": "execute_result"
    }
   ],
   "source": [
    "uyi0 = (ui0-uim1)/hy; uyi0"
   ]
  },
  {
   "cell_type": "markdown",
   "metadata": {},
   "source": [
    "The value $u_{(i,-1)}$ for the ghost point can be eliminated using the boundary condition\n",
    " $$- u_{y(i,0)} - i k_{(i,0)}u_{(i,0)} = g_{(i,0)},$$ substituting the approximate value $u_{y(i,0)} =\\frac{1}{h_{y}} \\left(- u_{(i,-1)} + u_{(i,0)}\\right)$ in the boundary condition leads to"
   ]
  },
  {
   "cell_type": "code",
   "execution_count": 22,
   "metadata": {},
   "outputs": [
    {
     "data": {
      "image/png": "[encoded data removed]",
      "text/latex": [
       "$$- i k_{(i,0)} u_{(i,0)} - u_{y(i,0)}$$"
      ],
      "text/plain": [
       "-i⋅k_{(i,0)}⋅u_{(i,0)} - u_{y(i,0)}"
      ]
     },
     "execution_count": 22,
     "metadata": {},
     "output_type": "execute_result"
    }
   ],
   "source": [
    "gi0 = - uyi0 - ii*ki0*ui0; gi0"
   ]
  },
  {
   "cell_type": "markdown",
   "metadata": {},
   "source": [
    "Which gives"
   ]
  },
  {
   "cell_type": "code",
   "execution_count": 11,
   "metadata": {},
   "outputs": [
    {
     "data": {
      "image/png": "[encoded data removed]",
      "text/latex": [
       "$$g_{(i,0)} h_{y} + h_{y} i k_{(i,0)} u_{(i,0)} + u_{(i,0)}$$"
      ],
      "text/plain": [
       "g_{(i,0)}⋅h_y + h_y⋅i⋅k_{(i,0)}⋅u_{(i,0)} + u_{(i,0)}"
      ]
     },
     "execution_count": 11,
     "metadata": {},
     "output_type": "execute_result"
    }
   ],
   "source": [
    "uim1 = hy*gi0+ii*ki0*hy*ui0+ui0; uim1"
   ]
  },
  {
   "cell_type": "markdown",
   "metadata": {},
   "source": [
    "Substituting the last expression in the equation for the point $x_{(i,0)}$ we obtain"
   ]
  },
  {
   "cell_type": "code",
   "execution_count": 12,
   "metadata": {},
   "outputs": [
    {
     "data": {
      "image/png": "[encoded data removed]",
      "text/latex": [
       "$$- \\frac{g_{(i,0)}}{h_{y}} + u_{(i,0)} \\left(- k_{(i,0)}^{2} - \\frac{i k_{(i,0)}}{h_{y}} + \\frac{1}{h_{y}^{2}} + \\frac{2}{h_{x}^{2}}\\right) - \\frac{u_{(i,1)}}{h_{y}^{2}} - \\frac{u_{(i+1,0)}}{h_{x}^{2}} - \\frac{u_{(i-1,0)}}{h_{x}^{2}}$$"
      ],
      "text/plain": [
       "  g_{(i,0)}             ⎛           2   i⋅k_{(i,0)}    1      2 ⎞   u_{(i,1)} \n",
       "- ───────── + u_{(i,0)}⋅⎜- k_{(i,0)}  - ─────────── + ──── + ───⎟ - ───────── \n",
       "     h_y                ⎜                   h_y          2     2⎟         2   \n",
       "                        ⎝                             h_y    hₓ ⎠      h_y    \n",
       "\n",
       "  u_{(i+1,0)}   u_{(i-1,0)}\n",
       "- ─────────── - ───────────\n",
       "        2             2    \n",
       "      hₓ            hₓ     "
      ]
     },
     "execution_count": 12,
     "metadata": {},
     "output_type": "execute_result"
    }
   ],
   "source": [
    "fi0 = -(ui1 +uim1)/hy**2 - (uip10 +uim10)/hx**2 + ui0*(2*hx**-2 +2*hy**-2 -ki0**2); \n",
    "collect(simplify(fi0),[ui0,uip10,uim10])"
   ]
  },
  {
   "cell_type": "markdown",
   "metadata": {},
   "source": [
    "This leads to the following equation for the point $x_{(i,0)}$:\n",
    "\n",
    "$$ f_{(i,0)}+ \\frac{g_{(i,0)}}{h_{y}} = u_{(i,0)} \\left(- k_{(i,0)}^{2} - \\frac{i k_{(i,0)}}{h_{y}} + \\frac{1}{h_{y}^{2}} + \\frac{2}{h_{x}^{2}}\\right) - \\frac{u_{(i,1)}}{h_{y}^{2}} - \\frac{u_{(i+1,0)}}{h_{x}^{2}} - \\frac{u_{(i-1,0)}}{h_{x}^{2}}$$\n",
    "\n",
    "\n",
    "\n",
    "\n",
    "\n",
    "\n"
   ]
  },
  {
   "cell_type": "markdown",
   "metadata": {},
   "source": [
    "On the east boundary, we have (non-corner) points of the form $(1,jh_y)$, where $0<j<n_y$. At the point $x_{(n_{x}+1,j)}$, the boundary condition is $$u_{x(n_x+1,j)}−ik_{(n_x+1,j)}u_{(n_x+1,j)}=g_{(n_x+1,j)},$$ and the equation for this point is\n",
    "\n",
    "$$f_{(n_x+1,j)}=- h_{y}^{-2} \\left(u_{{(n_x+1,j+1)}} + u_{{(n_x+1,j-1)}}\\right) - h_{x}^{-2} \\left(u_{{(n_x+2,j)}} + u_{{(n_x,j)}}\\right) + u_{{(n_x+1,j)}} \\left(-k_{(n_x+1,j)}^{2} + 2 h_{y}^{-2} + 2 h_{x}^{-2}\\right)$$"
   ]
  },
  {
   "cell_type": "markdown",
   "metadata": {},
   "source": [
    "We approximate the derivative $u_{x(n_x+1,j)}$ with forward differences and obtain\n",
    "$$u_{x(n_x+1,j)}=h_x^{-1}(u_{(n_x+2,j)}-u_{(n_x+1,j)})+O(h_x)$$"
   ]
  },
  {
   "cell_type": "code",
   "execution_count": 13,
   "metadata": {
    "collapsed": true
   },
   "outputs": [],
   "source": [
    "uxnp1j = symbols(\"u_{x(n_x+1\\,j)}\")\n",
    "unp1j,unp2j,unj = symbols(\"u_{(n_x+1\\,j)}, u_{(n_x+2\\,j)}, u_{(n_x\\,j)}\")\n",
    "unp1jp1,unp1jm1 = symbols(\"u_{(n_x+1\\,j+1)}, u_{(n_x+1\\,j-1)}\")\n",
    "hy,hx = symbols(\"h_y, h_x\")\n",
    "gnp1j,knp1j,fnp1j = symbols(\"g_{(n_x+1\\,j)},k_{(n_x+1\\,j)},f_{(n_x+1\\,j)}\")"
   ]
  },
  {
   "cell_type": "code",
   "execution_count": 14,
   "metadata": {},
   "outputs": [
    {
     "data": {
      "image/png": "[encoded data removed]",
      "text/latex": [
       "$$\\frac{1}{h_{x}} \\left(- u_{(n_x+1,j)} + u_{(n_x+2,j)}\\right)$$"
      ],
      "text/plain": [
       "-u_{(n_x+1,j)} + u_{(n_x+2,j)}\n",
       "──────────────────────────────\n",
       "              hₓ              "
      ]
     },
     "execution_count": 14,
     "metadata": {},
     "output_type": "execute_result"
    }
   ],
   "source": [
    "uxnp1j = (unp2j-unp1j)/hx; uxnp1j"
   ]
  },
  {
   "cell_type": "markdown",
   "metadata": {},
   "source": [
    "The value $u_{(n_x+2,j)}$ for the ghost point can be eliminated using the boundary condition\n",
    " $$u_{x(n_x+1,j)} - i k_{(n_x+1,j)}u_{(n_X+1,j)} = g_{(n_x+1,j)},$$ substituting the approximate value $u_{x(n_x+1,j)} =\\frac{1}{h_{x}} \\left( u_{(n_x+2,j)} - u_{(n_x+1,j)}  \\right)$ in the boundary condition leads to"
   ]
  },
  {
   "cell_type": "code",
   "execution_count": 58,
   "metadata": {},
   "outputs": [
    {
     "data": {
      "image/png": "[encoded data removed]",
      "text/latex": [
       "$$- i k_{(n_x+1,j)} u_{(n_x+1,j)} + \\frac{1}{h_{x}} \\left(- u_{(n_x+1,j)} + u_{(n_x+2,j)}\\right)$$"
      ],
      "text/plain": [
       "                                 -u_{(n_x+1,j)} + u_{(n_x+2,j)}\n",
       "-i⋅k_{(n_x+1,j)}⋅u_{(n_x+1,j)} + ──────────────────────────────\n",
       "                                               hₓ              "
      ]
     },
     "execution_count": 58,
     "metadata": {},
     "output_type": "execute_result"
    }
   ],
   "source": [
    "gnp1j = (unp2j-unp1j)/hx - ii*knp1j*unp1j\n",
    "gnp1j"
   ]
  },
  {
   "cell_type": "code",
   "execution_count": 15,
   "metadata": {},
   "outputs": [
    {
     "data": {
      "image/png": "[encoded data removed]",
      "text/latex": [
       "$$g_{(n_x+1,j)} h_{x} + h_{x} i k_{(n_x+1,j)} u_{(n_x+1,j)} + u_{(n_x+1,j)}$$"
      ],
      "text/plain": [
       "g_{(n_x+1,j)}⋅hₓ + hₓ⋅i⋅k_{(n_x+1,j)}⋅u_{(n_x+1,j)} + u_{(n_x+1,j)}"
      ]
     },
     "execution_count": 15,
     "metadata": {},
     "output_type": "execute_result"
    }
   ],
   "source": [
    "unp2j = hx*gnp1j+hx*ii*knp1j*unp1j+unp1j\n",
    "unp2j"
   ]
  },
  {
   "cell_type": "markdown",
   "metadata": {},
   "source": [
    "Substituting the last expression in the equation for the point $x_{(n_x+1,j)}$ we obtain"
   ]
  },
  {
   "cell_type": "code",
   "execution_count": 16,
   "metadata": {},
   "outputs": [
    {
     "data": {
      "image/png": "[encoded data removed]",
      "text/latex": [
       "$$- \\frac{g_{(n_x+1,j)}}{h_{x}} + u_{(n_x+1,j)} \\left(- k_{(n_x+1,j)}^{2} + \\frac{2}{h_{y}^{2}} - \\frac{i k_{(n_x+1,j)}}{h_{x}} + \\frac{1}{h_{x}^{2}}\\right) - \\frac{u_{(n_x+1,j+1)}}{h_{y}^{2}} - \\frac{u_{(n_x+1,j-1)}}{h_{y}^{2}} - \\frac{u_{(n_x,j)}}{h_{x}^{2}}$$"
      ],
      "text/plain": [
       "  g_{(n_x+1,j)}                 ⎛               2    2     i⋅k_{(n_x+1,j)}    \n",
       "- ───────────── + u_{(n_x+1,j)}⋅⎜- k_{(n_x+1,j)}  + ──── - ─────────────── + ─\n",
       "        hₓ                      ⎜                      2          hₓ          \n",
       "                                ⎝                   h_y                      h\n",
       "\n",
       "1 ⎞   u_{(n_x+1,j+1)}   u_{(n_x+1,j-1)}   u_{(n_x,j)}\n",
       "──⎟ - ─────────────── - ─────────────── - ───────────\n",
       " 2⎟            2                 2              2    \n",
       "ₓ ⎠         h_y               h_y             hₓ     "
      ]
     },
     "execution_count": 16,
     "metadata": {},
     "output_type": "execute_result"
    }
   ],
   "source": [
    "fnp1j = -(unp1jp1 +unp1jm1)/hy**2 - (unp2j +unj)/hx**2 + unp1j*(2/hx**2 +2/hy**2 - knp1j**2); \n",
    "collect(simplify(fnp1j),[unp1j,unp1jp1,unp1jm1])\n",
    "#simplify(collect(simplify(fnp1j),[unp1jp1,unj,unp1j]))\n"
   ]
  },
  {
   "cell_type": "markdown",
   "metadata": {},
   "source": [
    "We obtain the equation for the point $x_{(n_x+1,j)}$\n",
    "$$f_{(n_x+1,j)} +\\frac{g_{(n_x+1,j)}}{h_{x}} =\n",
    " u_{(n_x+1,j)} \\left(- k_{(n_x+1,j)}^{2} + \\frac{2}{h_{y}^{2}} - \\frac{i k_{(n_x+1,j)}}{h_{x}} + \\frac{1}{h_{x}^{2}}\\right) - \\frac{u_{(n_x+1,j+1)}}{h_{y}^{2}} - \\frac{u_{(n_x+1,j-1)}}{h_{y}^{2}} - \\frac{u_{(n_x,j)}}{h_{x}^{2}}$$"
   ]
  },
  {
   "cell_type": "markdown",
   "metadata": {},
   "source": [
    "For the north boundary, the points have the form $x_{(i,n_y+1)}=(ih_x,1)$ with $0<i<n_x$. Similarly to the previous cases, the equation for this point is\n",
    "\n",
    "$$ f_{(i,n_y+1)} +\\frac{g_{(i,n_y+1)}}{h_{y}}  = u_{(i,n_y+1)}  \\left(- k_{(i,n_y+1)}^{2} + \\frac{2}{h_{x}^{2}} - \\frac{i k_{(i,n_y+1)}}{h_{y}} + \\frac{1}{h_{y}^{2}}\\right)  - \\frac{u_{(i,n_y)}}{h_{y}^{2}} - \\frac{u_{(i+1,n_y+1)}}{h_{x}^{2}} - \\frac{u_{(i-1,n_y+1)}}{h_{x}^{2}} $$\n",
    "\n",
    "\n"
   ]
  },
  {
   "cell_type": "markdown",
   "metadata": {},
   "source": [
    "In summary, we have obtained the following equations: \n",
    "\n",
    "\n",
    "For interior points of the form $x_{(i,j)}=(ih_x,jh_y)$ where $0<i <n_x+1$ and $0<j < n_y+1$:\n",
    "\n",
    "\n",
    "$$ f_{ij}=- h_{y}^{-2} \\left(u_{{(i,j+1)}} + u_{{(i,j-1)}}\\right) - h_{x}^{-2} \\left(u_{{(i+1,j)}} + u_{{(i-1,j)}}\\right) + u_{{(i,j)}} \\left(-k_{ij}^{2} + 2 h_{y}^{-2} + 2 h_{x}^{-2}\\right)$$\n",
    "    \n",
    "For non-corner points on the west boundary, of the form $x_{(0,j)}=(0,jh_y)$ where $0<j<n_y+1$:   \n",
    "$$ f_{(0,j)} + \\frac{g_{(0,j)}}{h_{x}} = u_{(0,j)} \\left(- k_{(0,j)}^{2} + \\frac{2}{h_{y}^{2}} + \\frac{1}{h_{x}^{2}}   - \\frac{i k_{(0,j)}}{h_{x}} \\right) - \\frac{u_{(0,j+1)}}{h_{y}^{2}} - \\frac{u_{(0,j-1)}}{h_{y}^{2}} - \\frac{u_{(1,j)}}{h_{x}^{2}}$$\n",
    "\n",
    "For non-corner points on the south boundary, of the form $x_{(i,0)}=(ih_x,0)$ where $0<i<n_x+1$:   \n",
    "\n",
    "$$ f_{(i,0)}+ \\frac{g_{(i,0)}}{h_{y}} = u_{(i,0)} \\left(- k_{(i,0)}^{2} - \\frac{i k_{(i,0)}}{h_{y}} + \\frac{1}{h_{y}^{2}} + \\frac{2}{h_{x}^{2}}\\right) - \\frac{u_{(i,1)}}{h_{y}^{2}} - \\frac{u_{(i+1,0)}}{h_{x}^{2}} - \\frac{u_{(i-1,0)}}{h_{x}^{2}}$$\n",
    "\n",
    "For non-corner points on the east boundary, of the form $x_{(n_x,j)}=(1,jh_y)$ where $0<j<n_y+1$:   \n",
    "\n",
    "$$f_{(n_x+1,j)} +\\frac{g_{(n_x+1,j)}}{h_{x}} =\n",
    " u_{(n_x+1,j)} \\left(- k_{(n_x+1,j)}^{2} + \\frac{2}{h_{y}^{2}} - \\frac{i k_{(n_x+1,j)}}{h_{x}} + \\frac{1}{h_{x}^{2}}\\right) - \\frac{u_{(n_x+1,j+1)}}{h_{y}^{2}} - \\frac{u_{(n_x+1,j-1)}}{h_{y}^{2}} - \\frac{u_{(n_x,j)}}{h_{x}^{2}}$$\n",
    " \n",
    "For non-corner points on the north boundary, of the form $x_{(i,n_y)}=(ih_x,1)$ where $0<i<n_x+1$\n",
    "$$ f_{(i,n_y+1)} +\\frac{g_{(i,n_y+1)}}{h_{y}}  = u_{(i,n_y+1)}  \\left(- k_{(i,n_y+1)}^{2} + \\frac{2}{h_{x}^{2}} - \\frac{i k_{(i,n_y+1)}}{h_{y}} + \\frac{1}{h_{y}^{2}}\\right)  - \\frac{u_{(i,n_y)}}{h_{y}^{2}} - \\frac{u_{(i+1,n_y+1)}}{h_{x}^{2}} - \\frac{u_{(i-1,n_y+1)}}{h_{x}^{2}} $$\n",
    "\n"
   ]
  },
  {
   "cell_type": "markdown",
   "metadata": {},
   "source": [
    "We continue with the corner points on the boundary of the domain. At the point $x_{(0,0)}=(0,0)$, the boundary condition $\\partial_n u -iku = 0$ in the horizontal direction results in the equation $$-u_{x(0,0)}-ik_{(0,0)}u_{(0,0)}=g{(0,0^+)}.$$ Similarly, in the vertical direction the boundary condition is $$-u_{y(0,0)}-ik_{(0,0)}u_{(0,0)}=g{(0^+,0)}.$$  "
   ]
  },
  {
   "cell_type": "code",
   "execution_count": 32,
   "metadata": {
    "collapsed": true
   },
   "outputs": [],
   "source": [
    "u00,u10,u01,ux00,uy00,uxx00,uyy00,hx,hy,k00,f00= symbols(\"u_{(0\\,0)}, u_{(1\\,0)},u_{(0\\,1)},u_{x(0\\,0)},u_{y(0\\,0)},u_{xx(0\\,0)},u_{yy(0\\,0)},h_x,h_y,k_{(0\\,0)},f_{(0\\,0)}\")\n",
    "um10,u0m1 = symbols(\"u_{(-1\\,0)}, u_{(0\\,-1)}\")\n",
    "g0p0,g00p = symbols(\"g(0^{+}\\,0),g(0\\,0^{+})\")"
   ]
  },
  {
   "cell_type": "markdown",
   "metadata": {},
   "source": [
    "Approximating the derivative $u_{x(0,0)}$  by forward differences leads to                                           "
   ]
  },
  {
   "cell_type": "code",
   "execution_count": 33,
   "metadata": {
    "collapsed": true
   },
   "outputs": [],
   "source": [
    "ux00 = ((u00-um10)/hx)"
   ]
  },
  {
   "cell_type": "markdown",
   "metadata": {},
   "source": [
    "The value $u_{(-1,0)}$ for the ghost point can be eliminated using the boundary condition\n",
    " $$ - u_{x(0,0)} - i k_{(0,0)}u_{(0,0)} = g(0,0^{+}),$$ substituting the approximate value $u_{x(0,0)} =\\frac{1}{h_{x}} \\left( u_{(0,0)} - u_{(-1,0)}  \\right)$ in the boundary condition leads to"
   ]
  },
  {
   "cell_type": "code",
   "execution_count": 31,
   "metadata": {},
   "outputs": [
    {
     "data": {
      "image/png": "[encoded data removed]",
      "text/latex": [
       "$$- i k_{(0,0)} u_{(0,0)} - \\frac{1}{h_{x}} \\left(- u_{(-1,0)} + u_{(0,0)}\\right)$$"
      ],
      "text/plain": [
       "                         -u_{(-1,0)} + u_{(0,0)}\n",
       "-i⋅k_{(0,0)}⋅u_{(0,0)} - ───────────────────────\n",
       "                                    hₓ          "
      ]
     },
     "execution_count": 31,
     "metadata": {},
     "output_type": "execute_result"
    }
   ],
   "source": [
    "g00p = - ux00-ii*k00*u00;\n",
    "g00p"
   ]
  },
  {
   "cell_type": "code",
   "execution_count": 34,
   "metadata": {},
   "outputs": [
    {
     "data": {
      "image/png": "[encoded data removed]",
      "text/latex": [
       "$$g(0,0^{+}) h_{x} + h_{x} i k_{(0,0)} u_{(0,0)} + u_{(0,0)}$$"
      ],
      "text/plain": [
       "g(0,0__{+})⋅hₓ + hₓ⋅i⋅k_{(0,0)}⋅u_{(0,0)} + u_{(0,0)}"
      ]
     },
     "execution_count": 34,
     "metadata": {},
     "output_type": "execute_result"
    }
   ],
   "source": [
    "um10 = hx*g00p + ii*k00*u00*hx+u00\n",
    "um10"
   ]
  },
  {
   "cell_type": "markdown",
   "metadata": {},
   "source": [
    "Solving for $u_{(-1,0)}$ we obtain"
   ]
  },
  {
   "cell_type": "markdown",
   "metadata": {},
   "source": [
    "$u_{(-1,0)}=g(0,0^{+}) h_{x} + i k_{(0,0)} u_{(0,0)}h_x + u_{(0,0)}$"
   ]
  },
  {
   "cell_type": "markdown",
   "metadata": {},
   "source": [
    "The value $u_{(0,-1)}$ for the ghost point can be eliminated using the boundary condition\n",
    " $$ -u_{y(0,0)} - i k_{(0,0)}u_{(0,0)} = g(0^{+},0),$$ substituting the approximate value $u_{y(0,0)} =\\frac{1}{h_{y}} \\left( u_{(0,0)} - u_{(0,-1)}  \\right)$ in the boundary condition leads to"
   ]
  },
  {
   "cell_type": "code",
   "execution_count": 35,
   "metadata": {
    "collapsed": true
   },
   "outputs": [],
   "source": [
    "uy00 = ((u00-u0m1)/hy);"
   ]
  },
  {
   "cell_type": "code",
   "execution_count": 28,
   "metadata": {},
   "outputs": [
    {
     "data": {
      "image/png": "[encoded data removed]",
      "text/latex": [
       "$$- i k_{(0,0)} u_{(0,0)} - \\frac{1}{h_{y}} \\left(- u_{(0,-1)} + u_{(0,0)}\\right)$$"
      ],
      "text/plain": [
       "                         -u_{(0,-1)} + u_{(0,0)}\n",
       "-i⋅k_{(0,0)}⋅u_{(0,0)} - ───────────────────────\n",
       "                                   h_y          "
      ]
     },
     "execution_count": 28,
     "metadata": {},
     "output_type": "execute_result"
    }
   ],
   "source": [
    "g0p0 = - uy00 - ii*k00*u00\n",
    "g0p0"
   ]
  },
  {
   "cell_type": "markdown",
   "metadata": {},
   "source": [
    "Solving for $u_{(0,-1)}$ gives"
   ]
  },
  {
   "cell_type": "code",
   "execution_count": 36,
   "metadata": {},
   "outputs": [
    {
     "data": {
      "image/png": "[encoded data removed]",
      "text/latex": [
       "$$g(0^{+},0) h_{y} + h_{y} i k_{(0,0)} u_{(0,0)} + u_{(0,0)}$$"
      ],
      "text/plain": [
       "g(0__{+},0)⋅h_y + h_y⋅i⋅k_{(0,0)}⋅u_{(0,0)} + u_{(0,0)}"
      ]
     },
     "execution_count": 36,
     "metadata": {},
     "output_type": "execute_result"
    }
   ],
   "source": [
    "u0m1 = hy*g0p0+ii*k00*u00*hy+u00\n",
    "u0m1"
   ]
  },
  {
   "cell_type": "markdown",
   "metadata": {},
   "source": [
    "We substitute in this expression $u_{xx(0,0)}+u_{yy(0,0)}=-f_{(0,0)}-k_{(0,0)}^2u_{(0,0)}$"
   ]
  },
  {
   "cell_type": "code",
   "execution_count": 37,
   "metadata": {},
   "outputs": [
    {
     "data": {
      "image/png": "[encoded data removed]",
      "text/latex": [
       "$$- \\frac{g(0,0^{+})}{h_{x}} - \\frac{g(0^{+},0)}{h_{y}} + u_{(0,0)} \\left(- k_{(0,0)}^{2} - \\frac{i k_{(0,0)}}{h_{y}} + \\frac{1}{h_{y}^{2}} - \\frac{i k_{(0,0)}}{h_{x}} + \\frac{1}{h_{x}^{2}}\\right) - \\frac{u_{(0,1)}}{h_{y}^{2}} - \\frac{u_{(1,0)}}{h_{x}^{2}}$$"
      ],
      "text/plain": [
       "  g(0,0__{+})   g(0__{+},0)             ⎛           2   i⋅k_{(0,0)}    1     i\n",
       "- ─────────── - ─────────── + u_{(0,0)}⋅⎜- k_{(0,0)}  - ─────────── + ──── - ─\n",
       "       hₓ           h_y                 ⎜                   h_y          2    \n",
       "                                        ⎝                             h_y     \n",
       "\n",
       "⋅k_{(0,0)}    1 ⎞   u_{(0,1)}   u_{(1,0)}\n",
       "────────── + ───⎟ - ───────── - ─────────\n",
       "    hₓ         2⎟         2          2   \n",
       "             hₓ ⎠      h_y         hₓ    "
      ]
     },
     "execution_count": 37,
     "metadata": {},
     "output_type": "execute_result"
    }
   ],
   "source": [
    "f00 = -(u01+u0m1)/hy**2 -(u10+um10)/hx**2 + u00*(2/hx**2+2/hy**2-k00**2) \n",
    "collect(simplify(f00),[u00,u01,u10])\n"
   ]
  },
  {
   "cell_type": "markdown",
   "metadata": {},
   "source": [
    "The resulting equation for the point $x_{(0,0)}$ is\n",
    "\n",
    "$$f_{(0,0)}+ \\frac{g(0,0^{+})}{h_{x}} + \\frac{g(0^{+},0)}{h_{y}} = u_{(0,0)} \\left(- k_{(0,0)}^{2} - \\frac{i k_{(0,0)}}{h_{y}} + \\frac{1}{h_{y}^{2}} - \\frac{i k_{(0,0)}}{h_{x}} + \\frac{1}{h_{x}^{2}}\\right) - \\frac{u_{(0,1)}}{h_{y}^{2}} - \\frac{u_{(1,0)}}{h_{x}^{2}}$$"
   ]
  },
  {
   "cell_type": "markdown",
   "metadata": {},
   "source": [
    "Similarly, for the point $x_{(nx+1,0)} = (1,0)$ the equation is\n",
    "\n",
    "$$f_{(1,0)}+ \\frac{g(1,0^{+})}{h_{x}} + \\frac{g(1^{-},0)}{h_{y}} = u_{(n_x+1,0)} \\left(- k_{(n_x+1,0)}^{2} - \\frac{i k_{(n_x+1,0)}}{h_{y}} + \\frac{1}{h_{y}^{2}} - \\frac{i k_{(n_x+1,0)}}{h_{x}} + \\frac{1}{h_{x}^{2}}\\right) - \\frac{u_{(n_x,0)}}{h_{x}^{2}} - \\frac{u_{(n_x+1,1)}}{h_{y}^{2}}$$\n",
    "\n",
    "\n",
    "For the point $x_{(0,n_y+1)} = (0,1)$ the equation is\n",
    " \n",
    "\n",
    "$$f_{(0,1)}+ \\frac{g(0,1^{-})}{h_{x}} + \\frac{g(0^{+},1)}{h_{y}} = u_{(0,n_y+1)} \\left(- k_{(0,n_y+1)}^{2} - \\frac{i k_{(0,n_y+1)}}{h_{y}} + \\frac{1}{h_{y}^{2}} - \\frac{i k_{(0,n_y+1)}}{h_{x}} + \\frac{1}{h_{x}^{2}}\\right) - \\frac{u_{(1,n_y+1)}}{h_{x}^{2}} - \\frac{u_{(0,n_y)}}{h_{y}^{2}}$$\n",
    "\n",
    "\n",
    "\n",
    "And for the point $x_{(n_x+1,n_y+1)} = (0,1)$ the equation is\n",
    "\n",
    "$$f_{(1,1)}+ \\frac{g(1^{-},1}{h_{y}} + \\frac{g(1,1^{-})}{h_{y}} = u_{(n_x+1,n_y+1)} \\left(- k_{(n_x+1,n_y+1)}^{2} - \\frac{i k_{(n_x+1,n_y+1)}}{h_{y}} + \\frac{1}{h_{y}^{2}} - \\frac{i k_{(n_x+1,n_y+1)}}{h_{x}} + \\frac{1}{h_{x}^{2}}\\right) - \\frac{u_{(n_x,n_y+1)}}{h_{x}^{2}} - \\frac{u_{(n_x+1,n_y)}}{h_{y}^{2}}$$\n",
    "\n"
   ]
  },
  {
   "cell_type": "markdown",
   "metadata": {},
   "source": [
    "The complete set of equations is the following:\n",
    "\n",
    "\n",
    "In summary, we have obtained the following equations: \n",
    "\n",
    "For interior points of the form $x_{(i,j)}=(ih_x,jh_y)$ where $0<i <n_x+1$ and $0<j < n_y+1$:\n",
    "\n",
    "$$ f_{ij}=- h_{y}^{-2} \\left(u_{{(i,j+1)}} + u_{{(i,j-1)}}\\right) - h_{x}^{-2} \\left(u_{{(i+1,j)}} + u_{{(i-1,j)}}\\right) + u_{{(i,j)}} \\left(-k_{ij}^{2} + 2 h_{y}^{-2} + 2 h_{x}^{-2}\\right)$$\n",
    "    \n",
    "For non-corner points on the west boundary, of the form $x_{(0,j)}=(0,jh_y)$ where $0<j<n_y+1$:   \n",
    "$$ f_{(0,j)} + \\frac{g_{(0,j)}}{h_{x}} = u_{(0,j)} \\left(- k_{(0,j)}^{2} + \\frac{2}{h_{y}^{2}} + \\frac{1}{h_{x}^{2}}   - \\frac{i k_{(0,j)}}{h_{x}} \\right) - \\frac{u_{(0,j+1)}}{h_{y}^{2}} - \\frac{u_{(0,j-1)}}{h_{y}^{2}} - \\frac{u_{(1,j)}}{h_{x}^{2}}$$\n",
    "\n",
    "For non-corner points on the south boundary, of the form $x_{(i,0)}=(ih_x,0)$ where $0<i<n_x+1$:   \n",
    "\n",
    "$$ f_{(i,0)}+ \\frac{g_{(i,0)}}{h_{y}} = u_{(i,0)} \\left(- k_{(i,0)}^{2} - \\frac{i k_{(i,0)}}{h_{y}} + \\frac{1}{h_{y}^{2}} + \\frac{2}{h_{x}^{2}}\\right) - \\frac{u_{(i,1)}}{h_{y}^{2}} - \\frac{u_{(i+1,0)}}{h_{x}^{2}} - \\frac{u_{(i-1,0)}}{h_{x}^{2}}$$\n",
    "\n",
    "For non-corner points on the east boundary, of the form $x_{(n_x,j)}=(1,jh_y)$ where $0<j<n_y+1$:   \n",
    "\n",
    "$$f_{(n_x+1,j)} +\\frac{g_{(n_x+1,j)}}{h_{x}} =\n",
    " u_{(n_x+1,j)} \\left(- k_{(n_x+1,j)}^{2} + \\frac{2}{h_{y}^{2}} - \\frac{i k_{(n_x+1,j)}}{h_{x}} + \\frac{1}{h_{x}^{2}}\\right) - \\frac{u_{(n_x+1,j+1)}}{h_{y}^{2}} - \\frac{u_{(n_x+1,j-1)}}{h_{y}^{2}} - \\frac{u_{(n_x,j)}}{h_{x}^{2}}$$\n",
    " \n",
    "For non-corner points on the north boundary, of the form $x_{(i,n_y)}=(ih_x,1)$ where $0<i<n_x+1$\n",
    "$$ f_{(i,n_y+1)} +\\frac{g_{(i,n_y+1)}}{h_{y}}  = u_{(i,n_y+1)}  \\left(- k_{(i,n_y+1)}^{2} + \\frac{2}{h_{x}^{2}} - \\frac{i k_{(i,n_y+1)}}{h_{y}} + \\frac{1}{h_{y}^{2}}\\right)  - \\frac{u_{(i,n_y)}}{h_{y}^{2}} - \\frac{u_{(i+1,n_y+1)}}{h_{x}^{2}} - \\frac{u_{(i-1,n_y+1)}}{h_{x}^{2}} $$\n",
    "\n",
    "\n",
    "For the point $x_{(0,0)} = (0,0)$\n",
    "\n",
    "$$f_{(0,0)}+ \\frac{g(0,0^{+})}{h_{x}} + \\frac{g(0^{+},0)}{h_{y}} = u_{(0,0)} \\left(- k_{(0,0)}^{2} - \\frac{i k_{(0,0)}}{h_{y}} + \\frac{1}{h_{y}^{2}} - \\frac{i k_{(0,0)}}{h_{x}} + \\frac{1}{h_{x}^{2}}\\right) - \\frac{u_{(0,1)}}{h_{y}^{2}} - \\frac{u_{(1,0)}}{h_{x}^{2}}$$\n",
    "\n",
    "\n",
    "For the point $x_{(nx+1,0)} = (1,0)$ the equation is\n",
    "\n",
    "$$f_{(1,0)}+ \\frac{g(1,0^{+})}{h_{x}} + \\frac{g(1^{-},0)}{h_{y}} = u_{(n_x+1,0)} \\left(- k_{(n_x+1,0)}^{2} - \\frac{i k_{(n_x+1,0)}}{h_{y}} + \\frac{1}{h_{y}^{2}} - \\frac{i k_{(n_x+1,0)}}{h_{x}} + \\frac{1}{h_{x}^{2}}\\right) - \\frac{u_{(n_x,0)}}{h_{x}^{2}} - \\frac{u_{(n_x+1,1)}}{h_{y}^{2}}$$\n",
    "\n",
    "\n",
    "$$f_{(0,1)}+ \\frac{g(0,1^{-})}{h_{x}} + \\frac{g(0^{+},1)}{h_{y}} = u_{(0,n_y+1)} \\left(- k_{(0,n_y+1)}^{2} - \\frac{i k_{(0,n_y+1)}}{h_{y}} + \\frac{1}{h_{y}^{2}} - \\frac{i k_{(0,n_y+1)}}{h_{x}} + \\frac{1}{h_{x}^{2}}\\right) - \\frac{u_{(1,n_y+1)}}{h_{x}^{2}} - \\frac{u_{(0,n_y)}}{h_{y}^{2}}$$\n",
    "\n",
    "\n",
    "And for the point $x_{(n_x+1,n_y+1)} = (0,1)$ the equation is\n",
    "\n",
    "$$f_{(1,1)}+ \\frac{g(1^{-},1}{h_{y}} + \\frac{g(1,1^{-})}{h_{y}} = u_{(n_x+1,n_y+1)} \\left(- k_{(n_x+1,n_y+1)}^{2} - \\frac{i k_{(n_x+1,n_y+1)}}{h_{y}} + \\frac{1}{h_{y}^{2}} - \\frac{i k_{(n_x+1,n_y+1)}}{h_{x}} + \\frac{1}{h_{x}^{2}}\\right) - \\frac{u_{(n_x,n_y+1)}}{h_{x}^{2}} - \\frac{u_{(n_x+1,n_y)}}{h_{y}^{2}}$$\n",
    "\n"
   ]
  },
  {
   "cell_type": "code",
   "execution_count": null,
   "metadata": {
    "collapsed": true
   },
   "outputs": [],
   "source": []
  }
 ],
 "metadata": {
  "anaconda-cloud": {},
  "kernelspec": {
   "display_name": "Python [conda root]",
   "language": "python",
   "name": "conda-root-py"
  },
  "language_info": {
   "codemirror_mode": {
    "name": "ipython",
    "version": 3
   },
   "file_extension": ".py",
   "mimetype": "text/x-python",
   "name": "python",
   "nbconvert_exporter": "python",
   "pygments_lexer": "ipython3",
   "version": "3.5.3"
  }
 },
 "nbformat": 4,
 "nbformat_minor": 1
}
