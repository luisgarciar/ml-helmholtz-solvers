{
 "cells": [
  {
   "cell_type": "code",
   "execution_count": 1,
   "metadata": {},
   "outputs": [],
   "source": [
    "from IPython.display import display\n",
    "from sympy import *\n",
    "from IPython.display import display\n",
    "from sympy.interactive import printing\n",
    "printing.init_printing()"
   ]
  },
  {
   "cell_type": "markdown",
   "metadata": {},
   "source": [
    "In this notebook we compute the stencils for the finite difference discretization of the Helmholtz boundary value problem with Sommerfeld boundary conditions in $\\Omega=(0,1)^2$:\n",
    "\\begin{align*}-\\Delta u - k^2 u &= f \\text{ in $\\Omega$}\\\\\n",
    " \\partial_{n}u - iku &=g \\text{ on $\\partial \\Omega$}\n",
    "\\end{align*}\n",
    "\n",
    "Let $n_x,n_y$ be the number of interior points in the $x$ and $y$ directions (including the endpoints), $h_x=1/(n_x+1), h_y=1/(n_y+1)$ and $G=\\{(x_i,y_j): 0 \\leq i \\leq n_x+1, 1 \\leq j \\leq n_y+1\\}$ be the corresponding grid. We first compute the equations for the interior points."
   ]
  },
  {
   "cell_type": "code",
   "execution_count": 4,
   "metadata": {},
   "outputs": [],
   "source": [
    "uim1j, uip1j, uijm1, uijp1, uij, fij  = symbols(\"u_{(i-1\\,j)}, u_{(i+1\\,j)}, u_{(i\\,j-1)}, u_{(i\\,j+1)}, u_{(i\\,j)}, f_{(i\\,j)}\"); \n",
    "hx, hy, kij = symbols(\"h_x,h_y, k_ij\")"
   ]
  },
  {
   "cell_type": "code",
   "execution_count": 5,
   "metadata": {},
   "outputs": [
    {
     "data": {
      "image/png": "[encoded data removed]",
      "text/latex": [
       "$$- h_{x}^{2} u_{(i,j+1)} - h_{x}^{2} u_{(i,j-1)} - h_{y}^{2} u_{(i+1,j)} - h_{y}^{2} u_{(i-1,j)} + u_{(i,j)} \\left(- h_{x}^{2} h_{y}^{2} k_{ij}^{2} + 2 h_{x}^{2} + 2 h_{y}^{2}\\right)$$"
      ],
      "text/plain": [
       "    2                 2                  2                  2                 \n",
       "- hₓ ⋅u_{(i,j+1)} - hₓ ⋅u_{(i,j-1)} - h_y ⋅u_{(i+1,j)} - h_y ⋅u_{(i-1,j)} + u_\n",
       "\n",
       "        ⎛    2    2     2       2        2⎞\n",
       "{(i,j)}⋅⎝- hₓ ⋅h_y ⋅k_ij  + 2⋅hₓ  + 2⋅h_y ⎠"
      ]
     },
     "execution_count": 5,
     "metadata": {},
     "output_type": "execute_result"
    }
   ],
   "source": [
    "fij=2*((hx**2+hy**2)/(hx*hy)**2-kij**2/2)*uij- hy**2*(uim1j+uip1j)/(hx*hy)**2-hx**2*(uijm1+uijp1)/(hx*hy)**2\n",
    "simplify(collect(expand(fij*hx**2*hy**2),[uij,uijm1,uijp1,uim1j,uip1j]))"
   ]
  },
  {
   "cell_type": "markdown",
   "metadata": {},
   "source": [
    "For the point $x_{ij}=(ih_x,jh_y)$, we obtain the following equation  $$f_{ij}h_{x}^{2}h_{y}^{2}=- h_{x}^{2} \\left(u_{{(i,j+1)}} + u_{{(i,j-1)}}\\right) - h_{y}^{2} \\left(u_{{(i+1,j)}} + u_{{(i-1,j)}}\\right) + u_{{(i,j)}} \\left(- h_{x}^{2} h_{y}^{2} k_{ij}^{2} + 2 h_{x}^{2} + 2 h_{y}^{2}\\right),$$\n",
    "equivalent to,\n",
    "$$ f_{ij}=- h_{y}^{-2} \\left(u_{{(i,j+1)}} + u_{{(i,j-1)}}\\right) - h_{x}^{-2} \\left(u_{{(i+1,j)}} + u_{{(i-1,j)}}\\right) + u_{{(i,j)}} \\left(-k_{ij}^{2} + 2 h_{y}^{-2} + 2 h_{x}^{-2}\\right)$$\n",
    "\n"
   ]
  },
  {
   "cell_type": "markdown",
   "metadata": {},
   "source": [
    "We set now the linear equation for the non-corner points on the boundary. We begin with points of the form $x_{(0,j)}=(0,jh_y)$ on the west boundary $(x=0, 1<y<1)$. At the point $x_{(0,j)}$ the boundary condition equals $-u_{x(0,j)}-ik_{(0,j)}u_{(0,j)}=g_{(0,j)}$. We approximate the derivative with forward differences and obtain\n",
    "$$u_{x(0,j)}=h_x^{-1}(u_{(1,j)}-u_{(0,j)})-(1/2)h_xu_{xx(0,j)}+O(h_x^2)$$"
   ]
  },
  {
   "cell_type": "code",
   "execution_count": 6,
   "metadata": {},
   "outputs": [],
   "source": [
    "ux0j, u1j, u0j, uxx0j, uyy0j, hx, k0j,f0j = symbols(\"u_{x}{(0\\,j)}, u_{(1\\,j)}, u_{(0\\,j)}, u_{xx(0\\,j)},u_{yy(0\\,j)}, h_x, k_{(0\\,j)},f_{(0\\,j)}\")\n",
    "u0jm1, u0jp1 = symbols(\"u_{(0\\,j-1)}, u_{(0\\,j+1)}\")"
   ]
  },
  {
   "cell_type": "code",
   "execution_count": 7,
   "metadata": {},
   "outputs": [
    {
     "data": {
      "image/png": "[encoded data removed]",
      "text/latex": [
       "$$- \\frac{h_{x} u_{xx(0,j)}}{2} + \\frac{1}{h_{x}} \\left(- u_{(0,j)} + u_{(1,j)}\\right)$$"
      ],
      "text/plain": [
       "  hₓ⋅u_{xx(0,j)}   -u_{(0,j)} + u_{(1,j)}\n",
       "- ────────────── + ──────────────────────\n",
       "        2                    hₓ          "
      ]
     },
     "execution_count": 7,
     "metadata": {},
     "output_type": "execute_result"
    }
   ],
   "source": [
    "ux0j=(u1j-u0j)/hx-(hx*uxx0j)/2; ux0j"
   ]
  },
  {
   "cell_type": "markdown",
   "metadata": {},
   "source": [
    "The second derivative $u_{xx(0,j)}$ in the previous expression can be substituted using the equation $-u_{xx}-u_{yy}-k^2u=f$ (extended by continuity to the boundary point)"
   ]
  },
  {
   "cell_type": "code",
   "execution_count": 8,
   "metadata": {},
   "outputs": [
    {
     "data": {
      "image/png": "[encoded data removed]",
      "text/latex": [
       "$$- f_{(0,j)} - k_{(0,j)}^{2} u_{(0,j)} - u_{yy(0,j)}$$"
      ],
      "text/plain": [
       "                      2                        \n",
       "-f_{(0,j)} - k_{(0,j)} ⋅u_{(0,j)} - u_{yy(0,j)}"
      ]
     },
     "execution_count": 8,
     "metadata": {},
     "output_type": "execute_result"
    }
   ],
   "source": [
    "uxx0j=-f0j-uyy0j-k0j**2*u0j; uxx0j"
   ]
  },
  {
   "cell_type": "markdown",
   "metadata": {},
   "source": [
    "And the second derivative $u_{yy(0\\,j)}$ can be approximated using central differences (with order $O(h_y^2)$) to obtain"
   ]
  },
  {
   "cell_type": "code",
   "execution_count": 9,
   "metadata": {},
   "outputs": [
    {
     "data": {
      "image/png": "[encoded data removed]",
      "text/latex": [
       "$$f_{(0,j)} + k_{(0,j)}^{2} u_{(0,j)} + \\frac{1}{h_{y}^{2}} \\left(- 2 u_{(0,j)} + u_{(0,j+1)} + u_{(0,j-1)}\\right)$$"
      ],
      "text/plain": [
       "                     2             -2⋅u_{(0,j)} + u_{(0,j+1)} + u_{(0,j-1)}\n",
       "f_{(0,j)} + k_{(0,j)} ⋅u_{(0,j)} + ────────────────────────────────────────\n",
       "                                                        2                  \n",
       "                                                     h_y                   "
      ]
     },
     "execution_count": 9,
     "metadata": {},
     "output_type": "execute_result"
    }
   ],
   "source": [
    "uyy0j=(u0jm1-2*u0j+u0jp1)/(hy**2); \n",
    "uxx0j=-f0j-uyy0j-k0j**2*u0j;\n",
    "-uxx0j"
   ]
  },
  {
   "cell_type": "markdown",
   "metadata": {},
   "source": [
    "We substitute the expression for the second derivative in the expression of the approximation of the first derivative, to obtain"
   ]
  },
  {
   "cell_type": "code",
   "execution_count": 10,
   "metadata": {},
   "outputs": [
    {
     "data": {
      "image/png": "[encoded data removed]",
      "text/latex": [
       "$$- \\frac{h_{x}}{2} \\left(- f_{(0,j)} - k_{(0,j)}^{2} u_{(0,j)} - \\frac{1}{h_{y}^{2}} \\left(- 2 u_{(0,j)} + u_{(0,j+1)} + u_{(0,j-1)}\\right)\\right) + \\frac{1}{h_{x}} \\left(- u_{(0,j)} + u_{(1,j)}\\right)$$"
      ],
      "text/plain": [
       "     ⎛                      2             -2⋅u_{(0,j)} + u_{(0,j+1)} + u_{(0,j\n",
       "  hₓ⋅⎜-f_{(0,j)} - k_{(0,j)} ⋅u_{(0,j)} - ────────────────────────────────────\n",
       "     ⎜                                                         2              \n",
       "     ⎝                                                      h_y               \n",
       "- ────────────────────────────────────────────────────────────────────────────\n",
       "                                          2                                   \n",
       "\n",
       "-1)}⎞                         \n",
       "────⎟                         \n",
       "    ⎟                         \n",
       "    ⎠   -u_{(0,j)} + u_{(1,j)}\n",
       "───── + ──────────────────────\n",
       "                  hₓ          "
      ]
     },
     "execution_count": 10,
     "metadata": {},
     "output_type": "execute_result"
    }
   ],
   "source": [
    "ux0j=(u1j-u0j)/hx-(hx*uxx0j)/2; ux0j"
   ]
  },
  {
   "cell_type": "markdown",
   "metadata": {},
   "source": [
    "Finally, the boundary condition $-u_{x(0,j)}-ik_{(0,j)}u_{(0,j)}=g_{(0,j)}$ gives"
   ]
  },
  {
   "cell_type": "code",
   "execution_count": 11,
   "metadata": {},
   "outputs": [],
   "source": [
    "g0j=-ux0j-I*k0j*u0j; g0j=expand(g0j)"
   ]
  },
  {
   "cell_type": "code",
   "execution_count": 12,
   "metadata": {},
   "outputs": [
    {
     "data": {
      "image/png": "[encoded data removed]",
      "text/latex": [
       "$$- f_{(0,j)} - k_{(0,j)}^{2} u_{(0,j)} + \\frac{2 u_{(0,j)}}{h_{y}^{2}} - \\frac{u_{(0,j+1)}}{h_{y}^{2}} - \\frac{u_{(0,j-1)}}{h_{y}^{2}} - \\frac{2 i}{h_{x}} k_{(0,j)} u_{(0,j)} + \\frac{2 u_{(0,j)}}{h_{x}^{2}} - \\frac{2 u_{(1,j)}}{h_{x}^{2}}$$"
      ],
      "text/plain": [
       "                      2             2⋅u_{(0,j)}   u_{(0,j+1)}   u_{(0,j-1)}   \n",
       "-f_{(0,j)} - k_{(0,j)} ⋅u_{(0,j)} + ─────────── - ─────────── - ─────────── - \n",
       "                                           2             2             2      \n",
       "                                        h_y           h_y           h_y       \n",
       "\n",
       "2⋅ⅈ⋅k_{(0,j)}⋅u_{(0,j)}   2⋅u_{(0,j)}   2⋅u_{(1,j)}\n",
       "─────────────────────── + ─────────── - ───────────\n",
       "           hₓ                   2             2    \n",
       "                              hₓ            hₓ     "
      ]
     },
     "execution_count": 12,
     "metadata": {},
     "output_type": "execute_result"
    }
   ],
   "source": [
    "BC=expand(g0j*2/hx); BC"
   ]
  },
  {
   "cell_type": "markdown",
   "metadata": {},
   "source": [
    "The equation for the point $x_{(0,j)}$ is\n",
    "$$  \\frac{2 u_{(0,j)}}{h_{y}^{2}}  + \\frac{2 u_{(0,j)}}{h_{x}^{2}} - k_{(0,j)}^{2} u_{(0,j)} - \\frac{u_{(0,j+1)}}{h_{y}^{2}} - \\frac{u_{(0,j-1)}}{h_{y}^{2}}  - \\frac{2 u_{(1,j)}}{h_{x}^{2}} - \\frac{2 i}{h_{x}} k_{(0,j)} u_{(0,j)}  = 2\\frac{g_{(0,j)}}{h_x}+ f_{(0,j)}$$"
   ]
  },
  {
   "cell_type": "markdown",
   "metadata": {},
   "source": [
    "On the south boundary, we have (non-corner) points of the form $(ih_x,0)$, where $0<i<n_x$. At the point $x_{(i,0)}$, the boundary condition is $−u_{y(i,0)}−ik_{(i,0)}u_{(i,0)}=0$. The equation for this point is\n",
    "$$  \\frac{2 u_{(i,0)}}{h_{x}^{2}}  + \\frac{2 u_{(i,0)}}{h_{y}^{2}} - k_{(i,0)}^{2} u_{(i,0)} - \\frac{u_{(i+1,0)}}{h_{x}^{2}} - \\frac{u_{(i-1,0)}}{h_{x}^{2}}  - \\frac{2 u_{(i,1)}}{h_{y}^{2}} - \\frac{2 i}{h_{y}} k_{(i,0)} u_{(i,0)}  = 2\\frac{g_{(i,0)}}{h_y}+ f_{(i,0)}$$"
   ]
  },
  {
   "cell_type": "markdown",
   "metadata": {},
   "source": [
    "Further, we consider the (non-corner) points on the east boundary, of the form $(1,jh_y)$, where $0<j<n_y$. At the point $x{(n_x+1,j)}=((n_x+1)h_x,jh_y)=(1,jh_y)$, the boundary condition is $$u_{x(n_x+1,j)}−ik_{(n_x+1,j)}u_{(n_x+1,j)}=g_{(n_x+1,j)}.$$\n",
    "We approximate the derivative $u_{x(n_x+1,j)}$ with backward differences and obtain\n",
    "$$u_{x(n_x+1,j)}=h_x^{-1}(u_{(n_x+1,j)}-u_{(n_x,j)})+(1/2)h_xu_{xx(n_x+1,j)}+O(h_x^2)$$"
   ]
  },
  {
   "cell_type": "code",
   "execution_count": 24,
   "metadata": {},
   "outputs": [],
   "source": [
    "uxnxp1j, unxj, unxp1j, uxxnxp1j, uyynxp1j, hx, knxp1j,fnxp1j = symbols(\"u_{x}{(n_x+1\\,j)}, u_{(n_x\\,j)}, u_{(n_x+1\\,j)}, u_{xx(n_x+1\\,j)},u_{yy(n_x+1\\,j)}, h_x, k_{(n_x+1\\,j)},f_{(n_x+1\\,j)}\")\n",
    "unxp1jm1, unxp1jp1 = symbols(\"u_{(n_x+1\\,j-1)}, u_{(n_x+1\\,j+1)}\")"
   ]
  },
  {
   "cell_type": "code",
   "execution_count": 25,
   "metadata": {},
   "outputs": [
    {
     "data": {
      "image/png": "[encoded data removed]",
      "text/latex": [
       "$$\\frac{h_{x} u_{xx(n_x+1,j)}}{2} + \\frac{1}{h_{x}} \\left(u_{(n_x+1,j)} - u_{(n_x,j)}\\right)$$"
      ],
      "text/plain": [
       "hₓ⋅u_{xx(n_x+1,j)}   u_{(n_x+1,j)} - u_{(n_x,j)}\n",
       "────────────────── + ───────────────────────────\n",
       "        2                         hₓ            "
      ]
     },
     "execution_count": 25,
     "metadata": {},
     "output_type": "execute_result"
    }
   ],
   "source": [
    "uxnxp1j=(unxp1j-unxj)/hx+(hx*uxxnxp1j)/2; uxnxp1j"
   ]
  },
  {
   "cell_type": "markdown",
   "metadata": {},
   "source": [
    "The second derivative $u_{xx(n_x+1,j)}$ in the previous expression can be substituted using the equation $-u_{xx}-u_{yy}-k^2u=f$ (extended by continuity to the boundary point (?))"
   ]
  },
  {
   "cell_type": "code",
   "execution_count": 26,
   "metadata": {},
   "outputs": [
    {
     "data": {
      "image/png": "[encoded data removed]",
      "text/latex": [
       "$$- f_{(n_x+1,j)} - k_{(n_x+1,j)}^{2} u_{(n_x+1,j)} - u_{yy(n_x+1,j)}$$"
      ],
      "text/plain": [
       "                              2                                \n",
       "-f_{(n_x+1,j)} - k_{(n_x+1,j)} ⋅u_{(n_x+1,j)} - u_{yy(n_x+1,j)}"
      ]
     },
     "execution_count": 26,
     "metadata": {},
     "output_type": "execute_result"
    }
   ],
   "source": [
    "uxxnxp1j=-fnxp1j-uyynxp1j-knxp1j**2*unxp1j; uxxnxp1j"
   ]
  },
  {
   "cell_type": "markdown",
   "metadata": {},
   "source": [
    "And the second derivative $u_{yy(n_x+1\\,j)}$ can be approximated using central differences (with order $O(h_y^2)$) to obtain"
   ]
  },
  {
   "cell_type": "code",
   "execution_count": 27,
   "metadata": {},
   "outputs": [
    {
     "data": {
      "image/png": "[encoded data removed]",
      "text/latex": [
       "$$- f_{(n_x+1,j)} - k_{(n_x+1,j)}^{2} u_{(n_x+1,j)} + \\frac{2 u_{(n_x+1,j)}}{h_{y}^{2}} - \\frac{u_{(n_x+1,j+1)}}{h_{y}^{2}} - \\frac{u_{(n_x+1,j-1)}}{h_{y}^{2}}$$"
      ],
      "text/plain": [
       "                              2                 2⋅u_{(n_x+1,j)}   u_{(n_x+1,j+\n",
       "-f_{(n_x+1,j)} - k_{(n_x+1,j)} ⋅u_{(n_x+1,j)} + ─────────────── - ────────────\n",
       "                                                         2                 2  \n",
       "                                                      h_y               h_y   \n",
       "\n",
       "1)}   u_{(n_x+1,j-1)}\n",
       "─── - ───────────────\n",
       "               2     \n",
       "            h_y      "
      ]
     },
     "execution_count": 27,
     "metadata": {},
     "output_type": "execute_result"
    }
   ],
   "source": [
    "uyynxp1j=(unxp1jm1-2*unxp1j+unxp1jp1)/(hy**2); \n",
    "uxxnxp1j=-fnxp1j-uyynxp1j-knxp1j**2*unxp1j; expand(uxxnxp1j)"
   ]
  },
  {
   "cell_type": "markdown",
   "metadata": {},
   "source": [
    "We substitute the expression for the second derivative in the expression of the approximation of the first derivative, to obtain"
   ]
  },
  {
   "cell_type": "code",
   "execution_count": 28,
   "metadata": {},
   "outputs": [
    {
     "data": {
      "image/png": "[encoded data removed]",
      "text/latex": [
       "$$\\frac{h_{x}}{2} \\left(- f_{(n_x+1,j)} - k_{(n_x+1,j)}^{2} u_{(n_x+1,j)} - \\frac{1}{h_{y}^{2}} \\left(- 2 u_{(n_x+1,j)} + u_{(n_x+1,j+1)} + u_{(n_x+1,j-1)}\\right)\\right) + \\frac{1}{h_{x}} \\left(u_{(n_x+1,j)} - u_{(n_x,j)}\\right)$$"
      ],
      "text/plain": [
       "   ⎛                              2                 -2⋅u_{(n_x+1,j)} + u_{(n_x\n",
       "hₓ⋅⎜-f_{(n_x+1,j)} - k_{(n_x+1,j)} ⋅u_{(n_x+1,j)} - ──────────────────────────\n",
       "   ⎜                                                                          \n",
       "   ⎝                                                                        h_\n",
       "──────────────────────────────────────────────────────────────────────────────\n",
       "                                                    2                         \n",
       "\n",
       "+1,j+1)} + u_{(n_x+1,j-1)}⎞                              \n",
       "──────────────────────────⎟                              \n",
       " 2                        ⎟                              \n",
       "y                         ⎠   u_{(n_x+1,j)} - u_{(n_x,j)}\n",
       "─────────────────────────── + ───────────────────────────\n",
       "                                           hₓ            "
      ]
     },
     "execution_count": 28,
     "metadata": {},
     "output_type": "execute_result"
    }
   ],
   "source": [
    "uxnxp1j=(unxp1j-unxj)/hx+(hx*uxxnxp1j)/2; uxnxp1j"
   ]
  },
  {
   "cell_type": "markdown",
   "metadata": {},
   "source": [
    "Finally, the boundary condition $u_{x(n_x+1,j)}-ik_{(n_x+1,j)}u_{(n_x+1,j)}=g_{(n_x+1,j)}$ gives"
   ]
  },
  {
   "cell_type": "code",
   "execution_count": 29,
   "metadata": {},
   "outputs": [
    {
     "data": {
      "image/png": "[encoded data removed]",
      "text/latex": [
       "$$- \\frac{f_{(n_x+1,j)} h_{x}}{2} - \\frac{h_{x} u_{(n_x+1,j)}}{2} k_{(n_x+1,j)}^{2} + \\frac{h_{x} u_{(n_x+1,j)}}{h_{y}^{2}} - \\frac{h_{x} u_{(n_x+1,j+1)}}{2 h_{y}^{2}} - \\frac{h_{x} u_{(n_x+1,j-1)}}{2 h_{y}^{2}} - i k_{(n_x+1,j)} u_{(n_x+1,j)} + \\frac{u_{(n_x+1,j)}}{h_{x}} - \\frac{u_{(n_x,j)}}{h_{x}}$$"
      ],
      "text/plain": [
       "                                     2                                        \n",
       "  f_{(n_x+1,j)}⋅hₓ   hₓ⋅k_{(n_x+1,j)} ⋅u_{(n_x+1,j)}   hₓ⋅u_{(n_x+1,j)}   hₓ⋅u\n",
       "- ──────────────── - ─────────────────────────────── + ──────────────── - ────\n",
       "         2                          2                           2             \n",
       "                                                             h_y              \n",
       "\n",
       "                                                                              \n",
       "_{(n_x+1,j+1)}   hₓ⋅u_{(n_x+1,j-1)}                                   u_{(n_x+\n",
       "────────────── - ────────────────── - ⅈ⋅k_{(n_x+1,j)}⋅u_{(n_x+1,j)} + ────────\n",
       "       2                    2                                               hₓ\n",
       "  2⋅h_y                2⋅h_y                                                  \n",
       "\n",
       "                   \n",
       "1,j)}   u_{(n_x,j)}\n",
       "───── - ───────────\n",
       "             hₓ    \n",
       "                   "
      ]
     },
     "execution_count": 29,
     "metadata": {},
     "output_type": "execute_result"
    }
   ],
   "source": [
    "gnxp1j =uxnxp1j-I*knxp1j*unxp1j; expand(gnxp1j)"
   ]
  },
  {
   "cell_type": "code",
   "execution_count": 30,
   "metadata": {},
   "outputs": [
    {
     "data": {
      "image/png": "[encoded data removed]",
      "text/latex": [
       "$$- f_{(n_x+1,j)} - k_{(n_x+1,j)}^{2} u_{(n_x+1,j)} + \\frac{2 u_{(n_x+1,j)}}{h_{y}^{2}} - \\frac{u_{(n_x+1,j+1)}}{h_{y}^{2}} - \\frac{u_{(n_x+1,j-1)}}{h_{y}^{2}} - \\frac{2 i}{h_{x}} k_{(n_x+1,j)} u_{(n_x+1,j)} + \\frac{2 u_{(n_x+1,j)}}{h_{x}^{2}} - \\frac{2 u_{(n_x,j)}}{h_{x}^{2}}$$"
      ],
      "text/plain": [
       "                              2                 2⋅u_{(n_x+1,j)}   u_{(n_x+1,j+\n",
       "-f_{(n_x+1,j)} - k_{(n_x+1,j)} ⋅u_{(n_x+1,j)} + ─────────────── - ────────────\n",
       "                                                         2                 2  \n",
       "                                                      h_y               h_y   \n",
       "\n",
       "1)}   u_{(n_x+1,j-1)}   2⋅ⅈ⋅k_{(n_x+1,j)}⋅u_{(n_x+1,j)}   2⋅u_{(n_x+1,j)}   2⋅\n",
       "─── - ─────────────── - ─────────────────────────────── + ─────────────── - ──\n",
       "               2                       hₓ                         2           \n",
       "            h_y                                                 hₓ            \n",
       "\n",
       "u_{(n_x,j)}\n",
       "───────────\n",
       "     2     \n",
       "   hₓ      "
      ]
     },
     "execution_count": 30,
     "metadata": {},
     "output_type": "execute_result"
    }
   ],
   "source": [
    "BC=expand(gnxp1j*2/hx); BC"
   ]
  },
  {
   "cell_type": "markdown",
   "metadata": {},
   "source": [
    "This leads to the following equation for the point $x_{(n_x+1,j)}$:\n",
    "\n",
    "$$ \\frac{2 u_{(n_x+1,j)}}{h_{y}^{2}} + \\frac{2 u_{(n_x+1,j)}}{h_{x}^{2}} - k_{(n_x+1,j)}^{2} u_{(n_x+1,j)} - \\frac{u_{(n_x+1,j+1)}}{h_{y}^{2}} - \\frac{u_{(n_x+1,j-1)}}{h_{y}^{2}} - \\frac{2 u_{(n_x,j)}}{h_{x}^{2}} - \\frac{2 i}{h_{x}} k_{(n_x+1,j)} u_{(n_x+1,j)}   = \\frac{2g_{(n_x+1,j)}}{h_x} + f_{(n_x+1,j)} $$ "
   ]
  },
  {
   "cell_type": "markdown",
   "metadata": {},
   "source": [
    "We finish with the north boundary, where the points have the form $x_{(i,n_y+1)}=(ih_x,1)$ with $0<i<n_x$. Similarly to the previous cases, the equation for this point is\n",
    "\n",
    "$$ \\frac{2 u_{(i,n_y+1)}}{h_{x}^{2}} + \\frac{2 u_{(i,(n_y+1))}}{h_{x}^{2}} - k_{(i,n_y+1)}^{2} u_{(i,n_y+1)} - \\frac{u_{(i+1,n_y+1)}}{h_{x}^{2}} - \\frac{u_{(i-1,n_y+1)}}{h_{x}^{2}} - \\frac{2 u_{(i,n_y)}}{h_{y}^{2}} - \\frac{2 i}{h_{y}} k_{(i,n_y+1)} u_{(i,n_y+1)}   = \\frac{2g_{(i,n_y+1)}}{h_y} + f_{(i,n_y+1)}$$"
   ]
  },
  {
   "cell_type": "markdown",
   "metadata": {},
   "source": [
    "In summary, we have obtained the following equations:\n",
    "   \n",
    "For interior points of the form $x_{(i,j)}=(ih_x,jh_y)$ where $0<i <n_x+1$ and $0<j < n_y+1$:\n",
    "$$- \\frac{\\left(u_{{(i,j+1)}} + u_{{(i,j-1)}}\\right)}{h_y^2} -  \\frac{\\left(u_{{(i+1,j)}} + u_{{(i-1,j)}}\\right)}{h_x^2} + \\left( \n",
    "\\frac{2}{h_x^2} u_{{(i,j)}} + \\frac{2}{h_y^2} -k_{ij}^{2} \\right)u_{{(i,j)}} = f_{ij}$$\n",
    "\n",
    "    \n",
    "For non-corner points on the west boundary, of the form $x_{(0,j)}=(0,jh_y)$ where $0<j<n_y+1$:   \n",
    "$$  \\frac{2 u_{(0,j)}}{h_{y}^{2}}  + \\frac{2 u_{(0,j)}}{h_{x}^{2}} - k_{(0,j)}^{2} u_{(0,j)} - \\frac{u_{(0,j+1)}}{h_{y}^{2}} - \\frac{u_{(0,j-1)}}{h_{y}^{2}}  - \\frac{2 u_{(1,j)}}{h_{x}^{2}} - \\frac{2 i}{h_{x}} k_{(0,j)} u_{(0,j)}  = 2\\frac{g_{(0,j)}}{h_x}+ f_{(0,j)}$$\n",
    "\n",
    "For non-corner points on the south boundary, of the form $x_{(i,0)}=(ih_x,0)$ where $0<i<n_x+1$:   \n",
    "\n",
    "$$  \\frac{2 u_{(i,0)}}{h_{x}^{2}}  + \\frac{2 u_{(i,0)}}{h_{y}^{2}} - k_{(i,0)}^{2} u_{(i,0)} - \\frac{u_{(i+1,0)}}{h_{x}^{2}} - \\frac{u_{(i-1,0)}}{h_{x}^{2}}  - \\frac{2 u_{(i,1)}}{h_{y}^{2}} - \\frac{2 i}{h_{y}} k_{(i,0)} u_{(i,0)}  = 2\\frac{g_{(i,0)}}{h_y}+ f_{(i,0)}$$\n",
    "\n",
    "For non-corner points on the east boundary, of the form $x_{(n_x,j)}=(1,jh_y)$ where $0<j<n_y+1$:   \n",
    "\n",
    "$$ \\frac{2 u_{(n_x+1,j)}}{h_{y}^{2}} + \\frac{2 u_{(n_x+1,j)}}{h_{x}^{2}} - k_{(n_x+1,j)}^{2} u_{(n_x+1,j)} - \\frac{u_{(n_x+1,j+1)}}{h_{y}^{2}} - \\frac{u_{(n_x+1,j-1)}}{h_{y}^{2}} - \\frac{2 u_{(n_x,j)}}{h_{x}^{2}} - \\frac{2 i}{h_{x}} k_{(n_x+1,j)} u_{(n_x+1,j)}   = \\frac{2g_{(n_x+1,j)}}{h_x} + f_{(n_x+1,j)} $$ \n",
    "\n",
    "For non-corner points on the northern boundary, of the form $x_{(i,n_y)}=(ih_x,1)$ where $0<i<n_x+1$\n",
    "$$ \\frac{2 u_{(i,n_y+1)}}{h_{x}^{2}} + \\frac{2 u_{(i,(n_y+1))}}{h_{x}^{2}} - k_{(i,n_y+1)}^{2} u_{(i,n_y+1)} - \\frac{u_{(i+1,n_y+1)}}{h_{x}^{2}} - \\frac{u_{(i-1,n_y+1)}}{h_{x}^{2}} - \\frac{2 u_{(i,n_y)}}{h_{y}^{2}} - \\frac{2 i}{h_{y}} k_{(i,n_y+1)} u_{(i,n_y+1)}   = \\frac{2g_{(i,n_y+1)}}{h_y} + f_{(i,n_y+1)}$$ \n"
   ]
  },
  {
   "cell_type": "markdown",
   "metadata": {},
   "source": [
    "We continue with the corner points on the boundary of the domain. At the point $x_{(0,0)}=(0,0)$, the boundary condition $\\partial_n u -iku = 0$ in the horizontal direction results in the equation $$-u_{x(0,0)}-ik_{(0,0)}u_{(0,0)}=g_{(0,0^+)}.$$ Similarly, in the vertical direction the boundary condition is $$-u_{y(0,0)}-ik_{(0,0)}u_{(0,0)}=g_{(0^+,0)}.$$  "
   ]
  },
  {
   "cell_type": "code",
   "execution_count": 108,
   "metadata": {},
   "outputs": [],
   "source": [
    "u00,u10,u01,ux00,uy00,uxx00,uyy00,hx,hy,k00,f00= symbols(\"u_{(0\\,0)}, u_{(1\\,0)},u_{(0\\,1)},u_{x(0\\,0)},u_{y(0\\,0)},u_{xx(0\\,0)},u_{yy(0\\,0)},h_x,h_y,k_{(0\\,0)},f_{(0\\,0)}\")\n",
    "g0p0,g00p = symbols(\"g(0^+\\,0),g(0\\,0^+)\")"
   ]
  },
  {
   "cell_type": "markdown",
   "metadata": {},
   "source": [
    "Approximating the derivatives $u_{x(0,0)}$ and $u_{y(0,0)}$ by forward differences leads to                                                 "
   ]
  },
  {
   "cell_type": "code",
   "execution_count": 109,
   "metadata": {},
   "outputs": [],
   "source": [
    "ux00=((u10-u00)/hx)-(hx*uxx00)/2;\n",
    "uy00=((u01-u00)/hy)-(hy*uyy00)/2;\n",
    "g0p0=-uy00-I*k00*u00;\n",
    "g00p=-ux00-I*k00*u00;\n"
   ]
  },
  {
   "cell_type": "markdown",
   "metadata": {},
   "source": [
    "We multiply the boundary conditions by $2h_y^{-1}$ and $2h_x^{-1}$ respectively"
   ]
  },
  {
   "cell_type": "code",
   "execution_count": 134,
   "metadata": {},
   "outputs": [],
   "source": [
    "BC1=expand(g0p0*2/hy); BC2=expand(g00p*2/hx);"
   ]
  },
  {
   "cell_type": "markdown",
   "metadata": {},
   "source": [
    "Summing these two equations we obtain"
   ]
  },
  {
   "cell_type": "code",
   "execution_count": 135,
   "metadata": {},
   "outputs": [
    {
     "data": {
      "image/png": "[encoded data removed]",
      "text/latex": [
       "$$u_{xx(0,0)} + u_{yy(0,0)} - \\frac{2 i}{h_{y}} k_{(0,0)} u_{(0,0)} + \\frac{2 u_{(0,0)}}{h_{y}^{2}} - \\frac{2 u_{(0,1)}}{h_{y}^{2}} - \\frac{2 i}{h_{x}} k_{(0,0)} u_{(0,0)} + \\frac{2 u_{(0,0)}}{h_{x}^{2}} - \\frac{2 u_{(1,0)}}{h_{x}^{2}}$$"
      ],
      "text/plain": [
       "                            2⋅ⅈ⋅k_{(0,0)}⋅u_{(0,0)}   2⋅u_{(0,0)}   2⋅u_{(0,1)\n",
       "u_{xx(0,0)} + u_{yy(0,0)} - ─────────────────────── + ─────────── - ──────────\n",
       "                                      h_y                    2             2  \n",
       "                                                          h_y           h_y   \n",
       "\n",
       "}   2⋅ⅈ⋅k_{(0,0)}⋅u_{(0,0)}   2⋅u_{(0,0)}   2⋅u_{(1,0)}\n",
       "─ - ─────────────────────── + ─────────── - ───────────\n",
       "               hₓ                   2             2    \n",
       "                                  hₓ            hₓ     "
      ]
     },
     "execution_count": 135,
     "metadata": {},
     "output_type": "execute_result"
    }
   ],
   "source": [
    "BC=BC1+BC2\n",
    "BC\n"
   ]
  },
  {
   "cell_type": "markdown",
   "metadata": {},
   "source": [
    "Therefore, we have the equation\n",
    "\n",
    "$$ u_{xx(0,0)} + u_{yy(0,0)} - \\frac{2 i}{h_{y}} k_{(0,0)} u_{(0,0)} + \\frac{2 u_{(0,0)}}{h_{y}^{2}} - \\frac{2 u_{(0,1)}}{h_{y}^{2}} - \\frac{2 i}{h_{x}} k_{(0,0)} u_{(0,0)} + \\frac{2 u_{(0,0)}}{h_{x}^{2}} - \\frac{2 u_{(1,0)}}{h_{x}^{2}} = 2g_{(0^+,0)}h_y^{-1}+ 2g_{(0,0^+)}h_x^{-1}$$"
   ]
  },
  {
   "cell_type": "markdown",
   "metadata": {},
   "source": [
    "We substitute in this expression $u_{xx(0,0)}+u_{yy(0,0)}=-f_{(0,0)}-k_{(0,0)}^2u_{(0,0)}$"
   ]
  },
  {
   "cell_type": "code",
   "execution_count": 112,
   "metadata": {},
   "outputs": [
    {
     "data": {
      "image/png": "[encoded data removed]",
      "text/latex": [
       "$$- f_{(0,0)} - k_{(0,0)}^{2} u_{(0,0)} - \\frac{2 i}{h_{y}} k_{(0,0)} u_{(0,0)} + \\frac{2 u_{(0,0)}}{h_{y}^{2}} - \\frac{2 u_{(0,1)}}{h_{y}^{2}} - \\frac{2 i}{h_{x}} k_{(0,0)} u_{(0,0)} + \\frac{2 u_{(0,0)}}{h_{x}^{2}} - \\frac{2 u_{(1,0)}}{h_{x}^{2}}$$"
      ],
      "text/plain": [
       "                      2             2⋅ⅈ⋅k_{(0,0)}⋅u_{(0,0)}   2⋅u_{(0,0)}   2⋅\n",
       "-f_{(0,0)} - k_{(0,0)} ⋅u_{(0,0)} - ─────────────────────── + ─────────── - ──\n",
       "                                              h_y                    2        \n",
       "                                                                  h_y         \n",
       "\n",
       "u_{(0,1)}   2⋅ⅈ⋅k_{(0,0)}⋅u_{(0,0)}   2⋅u_{(0,0)}   2⋅u_{(1,0)}\n",
       "───────── - ─────────────────────── + ─────────── - ───────────\n",
       "     2                 hₓ                   2             2    \n",
       "  h_y                                     hₓ            hₓ     "
      ]
     },
     "execution_count": 112,
     "metadata": {},
     "output_type": "execute_result"
    }
   ],
   "source": [
    "BC=BC.subs(uxx00+uyy00,-f00-k00**2*u00)\n",
    "BC"
   ]
  },
  {
   "cell_type": "markdown",
   "metadata": {},
   "source": [
    "The resulting boundary condition equals\n",
    "\n",
    "$$ \\frac{2 u_{(0,0)}}{h_{y}^{2}} + \\frac{2 u_{(0,0)}}{h_{x}^{2}} - k_{(0,0)}^{2} u_{(0,0)}  - \\frac{2 u_{(0,1)}}{h_{y}^{2}} - \\frac{2 u_{(1,0)}}{h_{x}^{2}} -  \\frac{2 i}{h_{y}} k_{(0,0)} u_{(0,0)}- \\frac{2 i}{h_{x}} k_{(0,0)} u_{(0,0)} =  f_{(0,0)} + 2g(0^+,0)h_y^{-1}+ 2g(0,0^+)h_x^{-1} $$"
   ]
  },
  {
   "cell_type": "markdown",
   "metadata": {},
   "source": [
    "We continue with the southeast corner point $x_{(n_x+1,0)}=(1,0)$. At this point the boundary conditions on the vertical and horizontal directions are $-u_{y(n_x+1,0)}-ik_{(n_x+1,0)}u_{(n_x+1,0)}=g(1^-,0)$ and $u_{x(n_x+1,0)}-ik_{(n_x+1,0)}u_{(n_x+1,0)}=g(1,0^+)$.\n",
    "\n",
    "The resulting boundary condition is \n",
    "$$\\frac{2u_{(n_x+1,0)}}{h_x^2} + \\frac{2 u_{(n_x+1,0)}}{h_y^2} - k^2_{(n_x+1,0)} u_{(n_x+1,0)} -\\frac{2u_{(n_x,0)}}{h_x^2} - \\frac{2u_{(n_x+1,1)}}{h_y^2}-  \\frac{2i}{h_y} k_{(n_x+1,0)} u_{(n_x+1,0)} - \\frac{2i}{h_x} k_{(n_x+1,0)} u_{(n_x+1,0)}=f_{(n_x+1,0)} + 2g(1^{-},0)h_y^{-1}+2g(1,0^+)h_x^{-1}$$\n",
    "\n",
    "At the northwest corner point $x_{(0,n_y+1)}=(0,1)$ the equation is\n",
    "$$\\frac{2u_{(0,n_y+1)}}{h_x^2} + \\frac{2 u_{(0,n_y+1)}}{h_y^2} - k^2_{(0,n_y+1)} u_{(0,n_y+1)} -\\frac{2u_{(1,n_y+1)}}{h_x^2} - \\frac{2u_{(0,n_y)}}{h_y^2}-  \\frac{2i}{h_y}  k_{(0,n_y+1)}  u_{(0,n_y+1)} - \\frac{2i}{h_x} k_{(0,n_y+1)}u_{(0,n_y+1)}=f_{(0,n_y+1)} + 2g(0^{+},1)h_y^{-1}+2g(0,1^-)h_x^{-1}$$"
   ]
  },
  {
   "cell_type": "markdown",
   "metadata": {},
   "source": [
    "At the northeast corner point $x_{(n_x+1,n_y+1)}=(1,1)$ the equation is \n",
    "\n",
    "$$\\frac{2u_{(n_x+1,n_y+1)}}{h_x^2} + \\frac{2 u_{(n_x+1,n_y+1)}}{h_y^2} - k^2_{(n_x+1,n_y+1)} u_{(n_x+1,n_y+1)} -\\frac{2u_{(n_x,n_y+1)}}{h_x^2} - \\frac{2u_{(n_x+1,n_y)}}{h_y^2}-  \\frac{2i}{h_y} u_{(n_x+1,n_y+1)} - \\frac{2i}{h_x}u_{(n_x+1,n_y+1)}=f_{(n_x+1,n_y+1)} + 2g(1^-,1)h_y^{-1}+2g(1,1^-)h_x^{-1}$$"
   ]
  },
  {
   "cell_type": "markdown",
   "metadata": {},
   "source": [
    "END OF REVISED VERSION"
   ]
  },
  {
   "cell_type": "markdown",
   "metadata": {},
   "source": [
    "We continue with the southeast corner point $x_{(n,0)}=(1,0)$. At this point the boundary conditions on the vertical and horizontal directions are $-u_{y(n,0)}-ik_{(n,0)}u_{(n,0)}=0$ and $u_{x(n,0)}-ik_{(n,0)}u_{(n,0)}=0$. The first derivatives can be approximated using forward differences (in the $y$-direction) and backward differences (in the $x$-direction) to obtain\n",
    "\n",
    "$$u_{x(n,0)}=h_x^{-1}(u_{(n,0)}-u_{(n-1,0)})+(h_xu_{xx(n,0)})/2$$\n",
    "$$u_{y(n,0)}=h_y^{-1}(u_{(n,1)}-u_{(n,0)})-(h_yu_{yy(n,0)})/2$$\n"
   ]
  },
  {
   "cell_type": "code",
   "execution_count": 113,
   "metadata": {},
   "outputs": [],
   "source": [
    "un0,unm10,un1,uxn0,uyn0,uxxn0,uyyn0,hx,hy,kn0,fn0 = symbols(\"u_{(n\\,0)}, u_{(n-1\\,0)},u_{(n\\,1)},u_{x(n\\,0)},u_{y(n\\,0)},u_{xx(n\\,0)},u_{yy(n\\,0)}),h_x,h_y,k_{(n\\,0)},f_{(n\\,0)}\")"
   ]
  },
  {
   "cell_type": "code",
   "execution_count": 114,
   "metadata": {},
   "outputs": [],
   "source": [
    "uxn0=(un0-unm10)/hx+hx*uxxn0/2\n",
    "uyn0=(un1-un0)/hy-hy*uyyn0/2"
   ]
  },
  {
   "cell_type": "markdown",
   "metadata": {},
   "source": [
    "Multiplying each boundary condition by $2h_y^{-1}$ and $2h_x^{-1}$ respectively, and summing the resulting equations, we obtain"
   ]
  },
  {
   "cell_type": "code",
   "execution_count": 115,
   "metadata": {},
   "outputs": [
    {
     "data": {
      "image/png": "[encoded data removed]",
      "text/latex": [
       "$$u_{xx(n,0)} + u_{yy(n,0)}) - \\frac{2 i}{h_{y}} k_{(n,0)} u_{(n,0)} + \\frac{2 u_{(n,0)}}{h_{y}^{2}} - \\frac{2 u_{(n,1)}}{h_{y}^{2}} - \\frac{2 i}{h_{x}} k_{(n,0)} u_{(n,0)} + \\frac{2 u_{(n,0)}}{h_{x}^{2}} - \\frac{2 u_{(n-1,0)}}{h_{x}^{2}}$$"
      ],
      "text/plain": [
       "                             2⋅ⅈ⋅k_{(n,0)}⋅u_{(n,0)}   2⋅u_{(n,0)}   2⋅u_{(n,1\n",
       "u_{xx(n,0)} + u_{yy(n,0)}) - ─────────────────────── + ─────────── - ─────────\n",
       "                                       h_y                    2             2 \n",
       "                                                           h_y           h_y  \n",
       "\n",
       ")}   2⋅ⅈ⋅k_{(n,0)}⋅u_{(n,0)}   2⋅u_{(n,0)}   2⋅u_{(n-1,0)}\n",
       "── - ─────────────────────── + ─────────── - ─────────────\n",
       "                hₓ                   2              2     \n",
       "                                   hₓ             hₓ      "
      ]
     },
     "execution_count": 115,
     "metadata": {},
     "output_type": "execute_result"
    }
   ],
   "source": [
    "BC1=-uyn0-I*kn0*un0\n",
    "BC2=uxn0-I*kn0*un0\n",
    "BC=expand(2*BC1/hy+2*BC2/hx)\n",
    "BC"
   ]
  },
  {
   "cell_type": "markdown",
   "metadata": {},
   "source": [
    "We substitute in this expression the equation $u_{xx(n,0)}+u_{yy(n,0)}=-f_{(n,0)}-k_{(n,0)}^2u_{(n,0)}$ to obtain"
   ]
  },
  {
   "cell_type": "code",
   "execution_count": 116,
   "metadata": {},
   "outputs": [
    {
     "data": {
      "image/png": "[encoded data removed]",
      "text/latex": [
       "$$- f_{(n,0)} - k_{(n,0)}^{2} u_{(n,0)} - \\frac{2 i}{h_{y}} k_{(n,0)} u_{(n,0)} + \\frac{2 u_{(n,0)}}{h_{y}^{2}} - \\frac{2 u_{(n,1)}}{h_{y}^{2}} - \\frac{2 i}{h_{x}} k_{(n,0)} u_{(n,0)} + \\frac{2 u_{(n,0)}}{h_{x}^{2}} - \\frac{2 u_{(n-1,0)}}{h_{x}^{2}}$$"
      ],
      "text/plain": [
       "                      2             2⋅ⅈ⋅k_{(n,0)}⋅u_{(n,0)}   2⋅u_{(n,0)}   2⋅\n",
       "-f_{(n,0)} - k_{(n,0)} ⋅u_{(n,0)} - ─────────────────────── + ─────────── - ──\n",
       "                                              h_y                    2        \n",
       "                                                                  h_y         \n",
       "\n",
       "u_{(n,1)}   2⋅ⅈ⋅k_{(n,0)}⋅u_{(n,0)}   2⋅u_{(n,0)}   2⋅u_{(n-1,0)}\n",
       "───────── - ─────────────────────── + ─────────── - ─────────────\n",
       "     2                 hₓ                   2              2     \n",
       "  h_y                                     hₓ             hₓ      "
      ]
     },
     "execution_count": 116,
     "metadata": {},
     "output_type": "execute_result"
    }
   ],
   "source": [
    "m=BC.subs(uxxn0+uyyn0,-fn0-kn0**2*un0)\n",
    "m"
   ]
  },
  {
   "cell_type": "markdown",
   "metadata": {},
   "source": [
    "Multiplying the resulting equation by $h_x^2h_y^2/2$ we obtain "
   ]
  },
  {
   "cell_type": "code",
   "execution_count": 117,
   "metadata": {},
   "outputs": [
    {
     "data": {
      "image/png": "[encoded data removed]",
      "text/latex": [
       "$$- \\frac{f_{(n,0)} h_{x}^{2}}{2} h_{y}^{2} - h_{x}^{2} u_{(n,1)} - h_{y}^{2} u_{(n-1,0)} + u_{(n,0)} \\left(- \\frac{h_{x}^{2} h_{y}^{2}}{2} k_{(n,0)}^{2} - i h_{x}^{2} h_{y} k_{(n,0)} + h_{x}^{2} - i h_{x} h_{y}^{2} k_{(n,0)} + h_{y}^{2}\\right)$$"
      ],
      "text/plain": [
       "              2    2                                                ⎛    2    \n",
       "  f_{(n,0)}⋅hₓ ⋅h_y      2                2                         ⎜  hₓ ⋅h_y\n",
       "- ────────────────── - hₓ ⋅u_{(n,1)} - h_y ⋅u_{(n-1,0)} + u_{(n,0)}⋅⎜- ───────\n",
       "          2                                                         ⎝         \n",
       "\n",
       "2          2                                                         ⎞\n",
       " ⋅k_{(n,0)}        2                   2           2                2⎟\n",
       "──────────── - ⅈ⋅hₓ ⋅h_y⋅k_{(n,0)} + hₓ  - ⅈ⋅hₓ⋅h_y ⋅k_{(n,0)} + h_y ⎟\n",
       "  2                                                                  ⎠"
      ]
     },
     "execution_count": 117,
     "metadata": {},
     "output_type": "execute_result"
    }
   ],
   "source": [
    "collect(expand(hx**2*hy**2*m/2),un0)"
   ]
  },
  {
   "cell_type": "markdown",
   "metadata": {},
   "source": [
    "The resulting equation for the corner point is\n",
    "$$- h_{x}^{2} u_{{(n,1)}} - h_{y}^{2} u_{{(n-1,0)}} + u_{{(n,0)}} \\left(- \\frac{h_{x}^{2} h_{y}^{2}}{2} k_{{(n,0)}}^{2} - i h_{x}^{2} h_{y} k_{{(n,0)}} + h_{x}^{2} - i h_{x} h_{y}^{2} k_{{(n,0)}} + h_{y}^{2}\\right)= \\frac{f_{{(n,0)}} h_{x}^{2}h_{y}^2}{2}$$\n"
   ]
  },
  {
   "cell_type": "markdown",
   "metadata": {},
   "source": [
    "We consider now the northwest corner point $x_{(0,n)}=(0,1)$. The boundary condition $\\partial_{n}u-iku=0$ evaluated at this point leads to two boundary conditions in the $x$ and $y$ directions: $-u_{x(0,n)}-ik_{(0,n)}u_{(0,n)}=0$ and $u_{y(0,n)}-ik_{(0,n)}u_{(0,n)}=0$. Approximating the derivatives with forward and backward differences gives"
   ]
  },
  {
   "cell_type": "code",
   "execution_count": 118,
   "metadata": {},
   "outputs": [],
   "source": [
    "u0n,u0nm1,u1n,ux0n,uy0n,uxx0n,uyy0n,hx,hy,k0n,f0n = symbols(\"u_{(0\\,n)}, u_{(0\\,n-1)},u_{(1\\,n)},u_{x(0\\,n)},u_{y(0\\,n)},u_{xx(0\\,n)},u_{yy(0\\,n)}),h_x,h_y,k_{(0\\,n)},f_{(0\\,n)}\")\n",
    "\n",
    "uy0n=(u0n-u0nm1)/hy+(hy*uyy0n)/2\n",
    "ux0n=(u1n-u0n)/hx-(hx*uxx0n)/2"
   ]
  },
  {
   "cell_type": "markdown",
   "metadata": {},
   "source": [
    "We replace the approximations of the derivative in the boundary condition to obtain"
   ]
  },
  {
   "cell_type": "code",
   "execution_count": 119,
   "metadata": {},
   "outputs": [
    {
     "data": {
      "image/png": "[encoded data removed]",
      "text/latex": [
       "$$\\frac{h_{x} u_{xx(0,n)}}{2} - i k_{(0,n)} u_{(0,n)} - \\frac{1}{h_{x}} \\left(- u_{(0,n)} + u_{(1,n)}\\right)$$"
      ],
      "text/plain": [
       "hₓ⋅u_{xx(0,n)}                           -u_{(0,n)} + u_{(1,n)}\n",
       "────────────── - ⅈ⋅k_{(0,n)}⋅u_{(0,n)} - ──────────────────────\n",
       "      2                                            hₓ          "
      ]
     },
     "execution_count": 119,
     "metadata": {},
     "output_type": "execute_result"
    }
   ],
   "source": [
    "-ux0n-I*k0n*u0n"
   ]
  },
  {
   "cell_type": "code",
   "execution_count": 120,
   "metadata": {},
   "outputs": [
    {
     "data": {
      "image/png": "[encoded data removed]",
      "text/latex": [
       "$$\\frac{h_{y} u_{yy(0,n)})}{2} - i k_{(0,n)} u_{(0,n)} + \\frac{1}{h_{y}} \\left(u_{(0,n)} - u_{(0,n-1)}\\right)$$"
      ],
      "text/plain": [
       "h_y⋅u_{yy(0,n)})                           u_{(0,n)} - u_{(0,n-1)}\n",
       "──────────────── - ⅈ⋅k_{(0,n)}⋅u_{(0,n)} + ───────────────────────\n",
       "       2                                             h_y          "
      ]
     },
     "execution_count": 120,
     "metadata": {},
     "output_type": "execute_result"
    }
   ],
   "source": [
    "uy0n-I*k0n*u0n"
   ]
  },
  {
   "cell_type": "markdown",
   "metadata": {},
   "source": [
    "Multiplying each equation with $2/h_x$ and $2/h_y$ and summing both equations we get"
   ]
  },
  {
   "cell_type": "code",
   "execution_count": 121,
   "metadata": {},
   "outputs": [],
   "source": [
    "expr=expand(2*(-ux0n-I*k0n*u0n)/hx +2*(uy0n-I*k0n*u0n)/hy)"
   ]
  },
  {
   "cell_type": "markdown",
   "metadata": {},
   "source": [
    "Substituting in the previous expression the equation $u_{xx(0,n)}+u_{yy(0,n)}=-f_{(0,n)}+k^2_{(0,n)}u_{(0,n)}$"
   ]
  },
  {
   "cell_type": "code",
   "execution_count": 122,
   "metadata": {},
   "outputs": [
    {
     "data": {
      "image/png": "[encoded data removed]",
      "text/latex": [
       "$$- f_{(0,n)} + k_{(0,n)}^{2} u_{(0,n)} - \\frac{2 i}{h_{y}} k_{(0,n)} u_{(0,n)} + \\frac{2 u_{(0,n)}}{h_{y}^{2}} - \\frac{2 u_{(0,n-1)}}{h_{y}^{2}} - \\frac{2 i}{h_{x}} k_{(0,n)} u_{(0,n)} + \\frac{2 u_{(0,n)}}{h_{x}^{2}} - \\frac{2 u_{(1,n)}}{h_{x}^{2}}$$"
      ],
      "text/plain": [
       "                      2             2⋅ⅈ⋅k_{(0,n)}⋅u_{(0,n)}   2⋅u_{(0,n)}   2⋅\n",
       "-f_{(0,n)} + k_{(0,n)} ⋅u_{(0,n)} - ─────────────────────── + ─────────── - ──\n",
       "                                              h_y                    2        \n",
       "                                                                  h_y         \n",
       "\n",
       "u_{(0,n-1)}   2⋅ⅈ⋅k_{(0,n)}⋅u_{(0,n)}   2⋅u_{(0,n)}   2⋅u_{(1,n)}\n",
       "─────────── - ─────────────────────── + ─────────── - ───────────\n",
       "      2                  hₓ                   2             2    \n",
       "   h_y                                      hₓ            hₓ     "
      ]
     },
     "execution_count": 122,
     "metadata": {},
     "output_type": "execute_result"
    }
   ],
   "source": [
    "BC1=expr.subs(uxx0n+uyy0n,-f0n+k0n**2*u0n)\n",
    "BC1"
   ]
  },
  {
   "cell_type": "markdown",
   "metadata": {},
   "source": [
    "Multiplying with $hx^2h_y^2/2$ leads to the boundary condition"
   ]
  },
  {
   "cell_type": "code",
   "execution_count": 123,
   "metadata": {},
   "outputs": [],
   "source": [
    "BC2=expand((hx**2*hy**2)*BC1/2)"
   ]
  },
  {
   "cell_type": "code",
   "execution_count": 124,
   "metadata": {},
   "outputs": [
    {
     "data": {
      "image/png": "[encoded data removed]",
      "text/latex": [
       "$$- \\frac{f_{(0,n)} h_{x}^{2}}{2} h_{y}^{2} - h_{x}^{2} u_{(0,n-1)} - h_{y}^{2} u_{(1,n)} + u_{(0,n)} \\left(\\frac{h_{x}^{2} h_{y}^{2}}{2} k_{(0,n)}^{2} - i h_{x}^{2} h_{y} k_{(0,n)} + h_{x}^{2} - i h_{x} h_{y}^{2} k_{(0,n)} + h_{y}^{2}\\right)$$"
      ],
      "text/plain": [
       "              2    2                                                ⎛  2    2 \n",
       "  f_{(0,n)}⋅hₓ ⋅h_y      2                  2                       ⎜hₓ ⋅h_y ⋅\n",
       "- ────────────────── - hₓ ⋅u_{(0,n-1)} - h_y ⋅u_{(1,n)} + u_{(0,n)}⋅⎜─────────\n",
       "          2                                                         ⎝         \n",
       "\n",
       "         2                                                         ⎞\n",
       "k_{(0,n)}        2                   2           2                2⎟\n",
       "────────── - ⅈ⋅hₓ ⋅h_y⋅k_{(0,n)} + hₓ  - ⅈ⋅hₓ⋅h_y ⋅k_{(0,n)} + h_y ⎟\n",
       "2                                                                  ⎠"
      ]
     },
     "execution_count": 124,
     "metadata": {},
     "output_type": "execute_result"
    }
   ],
   "source": [
    "collect(BC2,u0n)"
   ]
  },
  {
   "cell_type": "markdown",
   "metadata": {},
   "source": [
    "Leading to the following linear equation for the corner point $x_{(0,n)}=(0,1)$\n",
    "$$- h_{x}^{2} u_{{(0,n-1)}} - h_{y}^{2} u_{{(1,n)}} + u_{{(0,n)}} \\left(\\frac{h_{x}^{2} h_{y}^{2}}{2} k_{{(0,n)}}^{2} - i h_{x}^{2} h_{y} k_{{(0,n)}} + h_{x}^{2} - i h_{x} h_{y}^{2} k_{{(0,n)}} + h_{y}^{2}\\right)=  \\frac{f_{{(0,n)}} h_{x}^{2}h_y^2}{2}$$\n"
   ]
  },
  {
   "cell_type": "markdown",
   "metadata": {},
   "source": [
    "Finally (!) we compute the boundary condition for the corner point $x_{(n,n)}=(1,1)$. At this point, the boundary condition $\\partial_n u -iku=0$ in the $x$ and $y$ directions gives the boundary conditions $u_{x(n,n)}-iku_{(n,n)}=0$, $u_{y(n,n)}-iku_{(n,n)}=0$. The derivatives with respect to $x$ and $y$ can be approximated using backward differences, and we obtain"
   ]
  },
  {
   "cell_type": "code",
   "execution_count": 125,
   "metadata": {},
   "outputs": [],
   "source": [
    "unn,unm1n,unnm1,uxnn,uynn,uxxnn,uyynn,hx,hy,knn,fnn = symbols(\"u_{(n\\,n)}, u_{(n-1\\,n)},u_{(n\\,n-1)},u_{x(n\\,n)},u_{y(n\\,n)},u_{xx(n\\,n)},u_{yy(n\\,n)}),h_x,h_y,k_{(n\\,n)},f_{(n\\,n)}\")\n",
    "uynn=(unn-unnm1)/hy+(hy*uyynn)/2\n",
    "uxnn=(unn-unm1n)/hx+(hx*uxxnn)/2"
   ]
  },
  {
   "cell_type": "markdown",
   "metadata": {},
   "source": [
    "We substitute in the expressions for the boundary conditions and obtain"
   ]
  },
  {
   "cell_type": "code",
   "execution_count": 126,
   "metadata": {},
   "outputs": [],
   "source": [
    "BC1=uxnn-I*knn*unn\n",
    "BC2=uynn-I*knn*unn"
   ]
  },
  {
   "cell_type": "code",
   "execution_count": 127,
   "metadata": {},
   "outputs": [
    {
     "data": {
      "image/png": "[encoded data removed]",
      "text/latex": [
       "$$u_{xx(n,n)} - \\frac{2 i}{h_{x}} k_{(n,n)} u_{(n,n)} + \\frac{2 u_{(n,n)}}{h_{x}^{2}} - \\frac{2 u_{(n-1,n)}}{h_{x}^{2}}$$"
      ],
      "text/plain": [
       "              2⋅ⅈ⋅k_{(n,n)}⋅u_{(n,n)}   2⋅u_{(n,n)}   2⋅u_{(n-1,n)}\n",
       "u_{xx(n,n)} - ─────────────────────── + ─────────── - ─────────────\n",
       "                         hₓ                   2              2     \n",
       "                                            hₓ             hₓ      "
      ]
     },
     "execution_count": 127,
     "metadata": {},
     "output_type": "execute_result"
    }
   ],
   "source": [
    "M1=2*expand(BC1/hx);M1"
   ]
  },
  {
   "cell_type": "code",
   "execution_count": 128,
   "metadata": {},
   "outputs": [
    {
     "data": {
      "image/png": "[encoded data removed]",
      "text/latex": [
       "$$u_{xx(n,n)} - \\frac{2 i}{h_{x}} k_{(n,n)} u_{(n,n)} + \\frac{2 u_{(n,n)}}{h_{x}^{2}} - \\frac{2 u_{(n-1,n)}}{h_{x}^{2}}$$"
      ],
      "text/plain": [
       "              2⋅ⅈ⋅k_{(n,n)}⋅u_{(n,n)}   2⋅u_{(n,n)}   2⋅u_{(n-1,n)}\n",
       "u_{xx(n,n)} - ─────────────────────── + ─────────── - ─────────────\n",
       "                         hₓ                   2              2     \n",
       "                                            hₓ             hₓ      "
      ]
     },
     "execution_count": 128,
     "metadata": {},
     "output_type": "execute_result"
    }
   ],
   "source": [
    "M2=2*expand(BC2/hy);M1"
   ]
  },
  {
   "cell_type": "markdown",
   "metadata": {},
   "source": [
    "The two equations for the boundary conditions can be added to obtain"
   ]
  },
  {
   "cell_type": "code",
   "execution_count": 129,
   "metadata": {},
   "outputs": [
    {
     "data": {
      "image/png": "[encoded data removed]",
      "text/latex": [
       "$$u_{xx(n,n)} + u_{yy(n,n)}) - \\frac{2 i}{h_{y}} k_{(n,n)} u_{(n,n)} + \\frac{2 u_{(n,n)}}{h_{y}^{2}} - \\frac{2 u_{(n,n-1)}}{h_{y}^{2}} - \\frac{2 i}{h_{x}} k_{(n,n)} u_{(n,n)} + \\frac{2 u_{(n,n)}}{h_{x}^{2}} - \\frac{2 u_{(n-1,n)}}{h_{x}^{2}}$$"
      ],
      "text/plain": [
       "                             2⋅ⅈ⋅k_{(n,n)}⋅u_{(n,n)}   2⋅u_{(n,n)}   2⋅u_{(n,n\n",
       "u_{xx(n,n)} + u_{yy(n,n)}) - ─────────────────────── + ─────────── - ─────────\n",
       "                                       h_y                    2              2\n",
       "                                                           h_y            h_y \n",
       "\n",
       "-1)}   2⋅ⅈ⋅k_{(n,n)}⋅u_{(n,n)}   2⋅u_{(n,n)}   2⋅u_{(n-1,n)}\n",
       "──── - ─────────────────────── + ─────────── - ─────────────\n",
       "                  hₓ                   2              2     \n",
       "                                     hₓ             hₓ      "
      ]
     },
     "execution_count": 129,
     "metadata": {},
     "output_type": "execute_result"
    }
   ],
   "source": [
    "expr=M1+M2\n",
    "expr"
   ]
  },
  {
   "cell_type": "code",
   "execution_count": 130,
   "metadata": {},
   "outputs": [],
   "source": [
    "BC=expr.subs(uxxnn+uyynn,-fnn-knn**2*unn)"
   ]
  },
  {
   "cell_type": "code",
   "execution_count": 131,
   "metadata": {},
   "outputs": [
    {
     "ename": "SyntaxError",
     "evalue": "invalid syntax (<ipython-input-131-69f058752ad5>, line 1)",
     "output_type": "error",
     "traceback": [
      "\u001b[0;36m  File \u001b[0;32m\"<ipython-input-131-69f058752ad5>\"\u001b[0;36m, line \u001b[0;32m1\u001b[0m\n\u001b[0;31m    Multiplying the resulting equation times $h_x^2 h_y^2/2$ we obtain\u001b[0m\n\u001b[0m                  ^\u001b[0m\n\u001b[0;31mSyntaxError\u001b[0m\u001b[0;31m:\u001b[0m invalid syntax\n"
     ]
    }
   ],
   "source": [
    "Multiplying the resulting equation times $h_x^2 h_y^2/2$ we obtain"
   ]
  },
  {
   "cell_type": "code",
   "execution_count": null,
   "metadata": {},
   "outputs": [],
   "source": [
    "collect(expand(BC*hx**2*hy**2/2),unn)"
   ]
  },
  {
   "cell_type": "markdown",
   "metadata": {},
   "source": [
    "Leading to the following linear equation for the point $x_{(n,n)}=(1,1)$"
   ]
  },
  {
   "cell_type": "markdown",
   "metadata": {},
   "source": [
    "$$-h_{x}^{2} u_{{(n,n-1)}} - h_{y}^{2} u_{{(n-1,n)}} + u_{{(n,n)}} \\left(- \\frac{h_{x}^{2} h_{y}^{2}}{2} k_{{(n,n)}}^{2} - i h_{x}^{2} h_{y} k_{{(n,n)}} + h_{x}^{2} - i h_{x} h_{y}^{2} k_{{(n,n)}} + h_{y}^{2}\\right)= \\frac{f_{{(n,n)}} h_{x}^{2} h_{y}^{2}}{2} $$"
   ]
  },
  {
   "cell_type": "markdown",
   "metadata": {},
   "source": [
    "The complete set of equations is the following:\n",
    "    \n",
    "For interior points of the form $x_{(i,j)}=(ih_x,jh_y)$ where $1<i<n_x$ and $1<j<n_y$:\n",
    "$$- h_{x}^{2} \\left(u_{{(i,j+1)}} + u_{{(i,j-1)}}\\right) - h_{y}^{2} \\left(u_{{(i+1,j)}} + u_{{(i-1,j)}}\\right) + u_{{(i,j)}} \\left(- h_{x}^{2} h_{y}^{2} k_{ij}^{2} + 2 h_{x}^{2} + 2 h_{y}^{2}\\right)= f_{ij}h_{x}^{2}h_{y}^{2}$$\n",
    "    \n",
    "For non-corner points on the west boundary, of the form $x_{(0,j)}=(0,jh_y)$ where $1<j<n_y$:   \n",
    "$$ - 2 h_{y}^{2} u_{{(1,j)}} - h_{x}^{2} u_{{(0,j+1)}} - h_{x}^{2} u_{{(0,j-1)}}  + u_{{(0,j)}} \\left(-h_{x}^{2} h_{y}^{2} k_{{(0,j)}}^{2}  - 2 i h_{x} h_{y}^{2} k_{{(0,j)}} + 2 h_{x}^{2}+ 2 h_{y}^{2}\\right)= f_{{(0,j)}} h_{x}^{2} h_{y}^{2} $$\n",
    "\n",
    "For non-corner points on the south boundary, of the form $x_{(i,0)}=(ih_x,0)$ where $1<i<n_x$:   \n",
    "$$ -2 h_{x}^{2} u_{{(i,1)}} - h_{y}^{2} u_{{(0,j+1)}} - h_{y}^{2} u_{{(0,j-1)}} + u_{{(i,0)}} \\left(-h_{x}^{2} h_{y}^{2} k_{{(i,0)}}^{2} - 2 i h_{x}^{2} h_{y} k_{{(i,0)}} + 2 h_{x}^{2} + 2 h_{y}^{2}\\right)= f_{{(i,0)}} h_{x}^{2} h_{y}^{2} $$\n",
    "\n",
    "For non-corner points on the east boundary, of the form $x_{(n_x,j)}=(1,jh_y)$ where $1<j<n_y$:   \n",
    "$$ - 2 h_{y}^{2} u_{{(n x-1,j)}} - h_{x}^{2} u_{{(n x,j+1)}} - h_{x}^{2} u_{{(n x,j-1)}}  + u_{{(n x,j)}} \\left(- h_{x}^{2} h_{y}^{2} k_{{(n x,j)}}^{2}  - 2 i h_{x} h_{y}^{2} k_{{(n x,j)}}+ + 2 h_{x}^{2} + 2 h_{y}^{2}\\right)=f_{{(n x,j)}} h_{x}^{2} h_{y}^{2}$$\n",
    "\n",
    "\n",
    "For non-corner points on the northern boundary, of the form $x_{(i,n_y)}=(ih_x,1)$ where $1<i<n_x$\n",
    "$$- 2 h_{x}^{2} u_{{(i,ny-1)}} - h_{y}^{2} u_{{(i+1,n y)}} - h_{y}^{2} u_{{(i-1,ny)}} + u_{{(i,n y)}} \\left(- h_{x}^{2} h_{y}^{2} k_{{(i,n y)}}^{2} - 2 i h_{x}^{2} h_{y} k_{{(i,n y)}} + 2 h_{x}^{2} + 2 h_{y}^{2}\\right)= f_{{(i,n y)}} h_{x}^{2} h_{y}^{2} $$\n",
    "\n",
    "\n",
    "For the corner point $x_{(0,0)}=(0,0)$ \n",
    "    $$- h_{x}^{2} u_{{(0,1)}} - h_{y}^{2} u_{{(1,0)}} + u_{{(0,0)}} \\left(- \\frac{h_{x}^{2} k_{{(0,0)}}}{2} h_{y}^{2} - i h_{x}^{2} h_{y} k_{{(0,0)}} + h_{x}^{2} - i h_{x} h_{y}^{2} k_{{(0,0)}} + h_{y}^{2}\\right)=\\frac{f_{(0,0)}h_x^2h_y^2}{2}$$\n",
    "\n",
    "\n",
    "For the corner point $x_{(n,0)}=(1,0)$\n",
    "$$- h_{x}^{2} u_{{(n,1)}} - h_{y}^{2} u_{{(n-1,0)}} + u_{{(n,0)}} \\left(- \\frac{h_{x}^{2} h_{y}^{2}}{2} k_{{(n,0)}}^{2} - i h_{x}^{2} h_{y} k_{{(n,0)}} + h_{x}^{2} - i h_{x} h_{y}^{2} k_{{(n,0)}} + h_{y}^{2}\\right)= \\frac{f_{{(n,0)}} h_{x}^{2}h_{y}^2}{2}$$\n",
    "\n",
    "For the corner point $x_{(0,n)}=(0,1)$\n",
    "$$- h_{x}^{2} u_{{(0,n-1)}} - h_{y}^{2} u_{{(1,n)}} + u_{{(0,n)}} \\left(\\frac{h_{x}^{2} h_{y}^{2}}{2} k_{{(0,n)}}^{2} - i h_{x}^{2} h_{y} k_{{(0,n)}} + h_{x}^{2} - i h_{x} h_{y}^{2} k_{{(0,n)}} + h_{y}^{2}\\right)=  \\frac{f_{{(0,n)}} h_{x}^{2}h_y^2}{2}$$\n",
    "\n",
    "For the corner point $x_{(n,n)}=(1,1)$\n",
    "$$-h_{x}^{2} u_{{(n,n-1)}} - h_{y}^{2} u_{{(n-1,n)}} + u_{{(n,n)}} \\left(- \\frac{h_{x}^{2} h_{y}^{2}}{2} k_{{(n,n)}}^{2} - i h_{x}^{2} h_{y} k_{{(n,n)}} + h_{x}^{2} - i h_{x} h_{y}^{2} k_{{(n,n)}} + h_{y}^{2}\\right)= \\frac{f_{{(n,n)}} h_{x}^{2} h_{y}^{2}}{2} $$"
   ]
  },
  {
   "cell_type": "code",
   "execution_count": null,
   "metadata": {},
   "outputs": [],
   "source": []
  }
 ],
 "metadata": {
  "anaconda-cloud": {},
  "kernelspec": {
   "display_name": "Python [conda root]",
   "language": "python",
   "name": "conda-root-py"
  },
  "language_info": {
   "codemirror_mode": {
    "name": "ipython",
    "version": 3
   },
   "file_extension": ".py",
   "mimetype": "text/x-python",
   "name": "python",
   "nbconvert_exporter": "python",
   "pygments_lexer": "ipython3",
   "version": "3.5.3"
  }
 },
 "nbformat": 4,
 "nbformat_minor": 1
}
