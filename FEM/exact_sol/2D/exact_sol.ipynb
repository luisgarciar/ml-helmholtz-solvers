{
 "cells": [
  {
   "cell_type": "code",
   "execution_count": 1,
   "metadata": {
    "collapsed": true
   },
   "outputs": [],
   "source": [
    "from IPython.display import display\n",
    "from sympy import *\n",
    "from sympy.interactive import printing\n",
    "printing.init_printing()\n",
    "import sympy as sym\n",
    "\n",
    "u = Symbol(\"\\tilde{u}\",complex=True)\n",
    "k = Symbol(\"k\",real=True,positive=True)\n",
    "x = Symbol(\"x\",real=True)\n",
    "y = Symbol(\"y\",real=True)\n",
    "m = Symbol(\"m\",real=True)\n",
    "n = Symbol(\"n\",real=True)"
   ]
  },
  {
   "cell_type": "markdown",
   "metadata": {},
   "source": [
    "In this notebook we compute given a solution $u$ a right hand side $f$ for the Helmholtz boundary value problem \n",
    "\\begin{align}\n",
    "-\\Delta u-k^2u&=f \\text{ in } \\Omega= (0,1)\\times(0,1) ,\\\\\n",
    "\\nabla u \\cdot n -iku &=g \\text{ on } \\Gamma = \\partial\\Omega.\\\\\n",
    "\\end{align}\n",
    "\n",
    "Let $u=\\sin(\\pi  x)^2\\sin(\\pi y)^2$, then $f=-\\partial_{xx}u-\\partial_{yy}u-k^2u$ is given by"
   ]
  },
  {
   "cell_type": "code",
   "execution_count": 2,
   "metadata": {},
   "outputs": [
    {
     "data": {
      "image/png": "[encoded data removed]",
      "text/latex": [
       "$$\\left(- k^{2} + 2 \\pi^{2}\\right) \\cos{\\left (\\pi x \\right )} \\cos{\\left (\\pi y \\right )}$$"
      ],
      "text/plain": [
       "⎛   2      2⎞                  \n",
       "⎝- k  + 2⋅π ⎠⋅cos(π⋅x)⋅cos(π⋅y)"
      ]
     },
     "execution_count": 2,
     "metadata": {},
     "output_type": "execute_result"
    }
   ],
   "source": [
    "u = cos(pi*x)*cos(pi*y)\n",
    "f = simplify(-diff(u,x,x)-diff(u,y,y)-k**2*u)\n",
    "f"
   ]
  },
  {
   "cell_type": "markdown",
   "metadata": {},
   "source": [
    "The partial derivatives of $u$ are given by:"
   ]
  },
  {
   "cell_type": "code",
   "execution_count": 4,
   "metadata": {},
   "outputs": [
    {
     "data": {
      "image/png": "[encoded data removed]",
      "text/latex": [
       "$$- \\pi \\sin{\\left (\\pi x \\right )} \\cos{\\left (\\pi y \\right )}$$"
      ],
      "text/plain": [
       "-π⋅sin(π⋅x)⋅cos(π⋅y)"
      ]
     },
     "execution_count": 4,
     "metadata": {},
     "output_type": "execute_result"
    }
   ],
   "source": [
    "dxu = diff(u,x)\n",
    "dxu"
   ]
  },
  {
   "cell_type": "code",
   "execution_count": 7,
   "metadata": {},
   "outputs": [
    {
     "data": {
      "image/png": "[encoded data removed]",
      "text/latex": [
       "$$- \\pi \\sin{\\left (\\pi y \\right )} \\cos{\\left (\\pi x \\right )}$$"
      ],
      "text/plain": [
       "-π⋅sin(π⋅y)⋅cos(π⋅x)"
      ]
     },
     "execution_count": 7,
     "metadata": {},
     "output_type": "execute_result"
    }
   ],
   "source": [
    "dyu = diff(u,y)\n",
    "dyu"
   ]
  },
  {
   "cell_type": "code",
   "execution_count": 8,
   "metadata": {
    "collapsed": true
   },
   "outputs": [],
   "source": [
    "def ux(s,t): \n",
    "    return ((dxu.subs(x,s)).subs(y,t))\n",
    "\n",
    "def uy(s,t): \n",
    "    return ((dyu.subs(x,s)).subs(y,t))"
   ]
  },
  {
   "cell_type": "code",
   "execution_count": 9,
   "metadata": {},
   "outputs": [
    {
     "data": {
      "image/png": "[encoded data removed]",
      "text/latex": [
       "$$0$$"
      ],
      "text/plain": [
       "0"
      ]
     },
     "execution_count": 9,
     "metadata": {},
     "output_type": "execute_result"
    }
   ],
   "source": [
    "dyu.subs(y,0)"
   ]
  },
  {
   "cell_type": "markdown",
   "metadata": {},
   "source": [
    "With this choice we have $\\nabla u \\cdot n = 0$ on all the boundary $\\partial \\Omega$, so the boundary condition is \n",
    "$iku =g$ on $\\partial\\Omega$."
   ]
  },
  {
   "cell_type": "markdown",
   "metadata": {},
   "source": [
    "Let $k \\in \\mathbb{R}$, $t\\in [0,2\\pi)$ and $\\mathbf{k}=k(\\cos(t),\\sin(t))$. We consider the function\n",
    "\n",
    "\\begin{align*} u_{ex}(x,y) &= e^{i \\mathbf{k} \\cdot \\mathbf{x}} \\\\\n",
    "&= \\cos(k x \\cos(t) + ky \\sin(t)) + 1i \\sin(k x \\cos(t) + ky \\sin(t))\n",
    "\\end{align*}\n",
    "\n",
    "and study the Helmholtz problem in $\\Omega = (0,1)^2$ with exact solution $u_{ex}$, i.e.\n",
    "\\begin{align}\n",
    "-\\Delta u-k^2u&=f \\text{ in } \\Omega= (0,1)\\times(0,1) ,\\\\\n",
    "\\nabla u \\cdot n -iku &=g \\text{ on } \\Gamma = \\partial\\Omega, \\\\\n",
    "\\end{align}\n",
    "\n",
    "for some function $f$ and boundary data $g$ (to be specified below)."
   ]
  },
  {
   "cell_type": "code",
   "execution_count": 10,
   "metadata": {
    "collapsed": true
   },
   "outputs": [],
   "source": [
    "uex = Symbol(\"u_{ex}\",complex=True)\n",
    "u1 = Symbol(\"u_1\",complex=True)\n",
    "u2 = Symbol(\"u_2\",complex=True)\n",
    "k = Symbol(\"k\",real=True,positive=True)\n",
    "x = Symbol(\"x\",real=True)\n",
    "y = Symbol(\"y\",real=True)\n",
    "t = Symbol(\"t\",real=True,positive=True)\n",
    "s = Symbol(\"s\",real=True,positive=True)\n",
    "c = Symbol(\"c\",real=True,positive=True)\n",
    "\n",
    "uex = cos(k*x*c+k*y*s) + I*sin(k*x*c + k*y*s)"
   ]
  },
  {
   "cell_type": "markdown",
   "metadata": {},
   "source": [
    "The right hand side $f$ is given by"
   ]
  },
  {
   "cell_type": "code",
   "execution_count": 11,
   "metadata": {},
   "outputs": [
    {
     "data": {
      "image/png": "[encoded data removed]",
      "text/latex": [
       "$$k^{2} \\left(c^{2} + s^{2} - 1\\right) e^{i k \\left(c x + s y\\right)}$$"
      ],
      "text/plain": [
       " 2 ⎛ 2    2    ⎞  ⅈ⋅k⋅(c⋅x + s⋅y)\n",
       "k ⋅⎝c  + s  - 1⎠⋅ℯ               "
      ]
     },
     "execution_count": 11,
     "metadata": {},
     "output_type": "execute_result"
    }
   ],
   "source": [
    "f = simplify(-diff(uex,x,x)-diff(uex,y,y)-k**2*uex)\n",
    "simplify(f)"
   ]
  },
  {
   "cell_type": "markdown",
   "metadata": {},
   "source": [
    "Therefore $f=0$.  We now compute the gradient of $u$:"
   ]
  },
  {
   "cell_type": "code",
   "execution_count": 12,
   "metadata": {
    "collapsed": true
   },
   "outputs": [],
   "source": [
    "dxu = diff(uex,x)\n",
    "dyu = diff(uex,y)"
   ]
  },
  {
   "cell_type": "code",
   "execution_count": 13,
   "metadata": {},
   "outputs": [
    {
     "data": {
      "image/png": "[encoded data removed]",
      "text/latex": [
       "$$- c k \\sin{\\left (c k x + k s y \\right )} + i c k \\cos{\\left (c k x + k s y \\right )}$$"
      ],
      "text/plain": [
       "-c⋅k⋅sin(c⋅k⋅x + k⋅s⋅y) + ⅈ⋅c⋅k⋅cos(c⋅k⋅x + k⋅s⋅y)"
      ]
     },
     "execution_count": 13,
     "metadata": {},
     "output_type": "execute_result"
    }
   ],
   "source": [
    "dxu"
   ]
  },
  {
   "cell_type": "markdown",
   "metadata": {},
   "source": [
    "Therefore $\\frac{\\partial u}{\\partial x} = - c k \\sin{\\left (c k x + k s y \\right )} + i c k \\cos{\\left (c k x + k s y \\right )}$."
   ]
  },
  {
   "cell_type": "code",
   "execution_count": 18,
   "metadata": {},
   "outputs": [
    {
     "data": {
      "image/png": "[encoded data removed]",
      "text/latex": [
       "$$- k s \\sin{\\left (c k x + k s y \\right )} + i k s \\cos{\\left (c k x + k s y \\right )}$$"
      ],
      "text/plain": [
       "-k⋅s⋅sin(c⋅k⋅x + k⋅s⋅y) + ⅈ⋅k⋅s⋅cos(c⋅k⋅x + k⋅s⋅y)"
      ]
     },
     "execution_count": 18,
     "metadata": {},
     "output_type": "execute_result"
    }
   ],
   "source": [
    "dyu"
   ]
  },
  {
   "cell_type": "markdown",
   "metadata": {},
   "source": [
    "Analogously, $\\frac{\\partial u }{\\partial y} = - k s \\sin{\\left (c k x + k s y \\right )} + i k s \\cos{\\left (c k x + k s y \\right )}$."
   ]
  },
  {
   "cell_type": "code",
   "execution_count": null,
   "metadata": {
    "collapsed": true
   },
   "outputs": [],
   "source": [
    "On the west boundary $\\Gamma_W= \\{(x,y) \\in \\Omega: x=0\\}$, the boundary condition $\\nabla u \\cdot n -iku =g$ equals \n",
    "$-\\partial_x - iku = g$. We compute $g_W$:"
   ]
  },
  {
   "cell_type": "code",
   "execution_count": 105,
   "metadata": {},
   "outputs": [
    {
     "data": {
      "image/png": "[encoded data removed]",
      "text/latex": [
       "$$k \\left(c \\sin{\\left (k s y \\right )} - i c \\cos{\\left (k s y \\right )} + \\sin{\\left (k s y \\right )} - i \\cos{\\left (k s y \\right )}\\right)$$"
      ],
      "text/plain": [
       "k⋅(c⋅sin(k⋅s⋅y) - ⅈ⋅c⋅cos(k⋅s⋅y) + sin(k⋅s⋅y) - ⅈ⋅cos(k⋅s⋅y))"
      ]
     },
     "execution_count": 105,
     "metadata": {},
     "output_type": "execute_result"
    }
   ],
   "source": [
    "dxu = diff(uex,x)\n",
    "gW  = simplify(-dxu-I*k*uex).subs(x,0)\n",
    "gW"
   ]
  },
  {
   "cell_type": "markdown",
   "metadata": {},
   "source": [
    "This gives $$g(x,y)=g(0,y) = g_{W}(y)= k(1+c)(\\sin(ksy) - i\\cos(ksy)),$$ where $s=\\sin(t)$, $c=\\cos(t)$."
   ]
  },
  {
   "cell_type": "markdown",
   "metadata": {},
   "source": [
    "On the east boundary $\\Gamma_E= \\{(x,y) \\in \\Omega: x=1\\}$, the boundary condition $\\nabla u \\cdot n -iku =g$ equals \n",
    "$\\partial_x u - iku = g$. We compute $g_{E}$:"
   ]
  },
  {
   "cell_type": "code",
   "execution_count": 110,
   "metadata": {},
   "outputs": [
    {
     "data": {
      "image/png": "[encoded data removed]",
      "text/latex": [
       "$$k \\left(- c \\sin{\\left (k \\left(c + s y\\right) \\right )} + i c \\cos{\\left (k \\left(c + s y\\right) \\right )} + \\sin{\\left (k \\left(c + s y\\right) \\right )} - i \\cos{\\left (k \\left(c + s y\\right) \\right )}\\right)$$"
      ],
      "text/plain": [
       "k⋅(-c⋅sin(k⋅(c + s⋅y)) + ⅈ⋅c⋅cos(k⋅(c + s⋅y)) + sin(k⋅(c + s⋅y)) - ⅈ⋅cos(k⋅(c \n",
       "+ s⋅y)))"
      ]
     },
     "execution_count": 110,
     "metadata": {},
     "output_type": "execute_result"
    }
   ],
   "source": [
    "dxu = diff(uex,x)\n",
    "gE  = simplify(dxu-I*k*uex).subs(x,1)\n",
    "gE"
   ]
  },
  {
   "cell_type": "markdown",
   "metadata": {},
   "source": [
    "This gives: $$g(x,y)=g(1,y) = g_{E}(y)= k(1-c)(\\sin(k(sy + c)) - i\\cos(k(sy + c))),$$ where $s=\\sin(t)$, $c=\\cos(t)$."
   ]
  },
  {
   "cell_type": "markdown",
   "metadata": {},
   "source": [
    "On the south boundary $\\Gamma_S= \\{(x,y) \\in \\Omega: y=0\\}$, the boundary condition $\\nabla u \\cdot n -iku =g$ equals \n",
    "$-\\partial_y u - iku = g$. We compute $g_{S}$:"
   ]
  },
  {
   "cell_type": "code",
   "execution_count": 107,
   "metadata": {},
   "outputs": [
    {
     "data": {
      "image/png": "[encoded data removed]",
      "text/latex": [
       "$$k \\left(s \\sin{\\left (c k x \\right )} - i s \\cos{\\left (c k x \\right )} + \\sin{\\left (c k x \\right )} - i \\cos{\\left (c k x \\right )}\\right)$$"
      ],
      "text/plain": [
       "k⋅(s⋅sin(c⋅k⋅x) - ⅈ⋅s⋅cos(c⋅k⋅x) + sin(c⋅k⋅x) - ⅈ⋅cos(c⋅k⋅x))"
      ]
     },
     "execution_count": 107,
     "metadata": {},
     "output_type": "execute_result"
    }
   ],
   "source": [
    "dyu = diff(uex,y)\n",
    "gS  = simplify(-dyu-I*k*uex).subs(y,0)\n",
    "gS"
   ]
  },
  {
   "cell_type": "markdown",
   "metadata": {},
   "source": [
    "This gives: $$g(x,y)=g(x,0) = g_{S}(x)= k(1+s)(\\sin(kxc) - i\\cos(kxc)),$$ where $s=\\sin(t)$, $c=\\cos(t)$."
   ]
  },
  {
   "cell_type": "markdown",
   "metadata": {},
   "source": [
    "Finally, on the north boundary $\\Gamma_N= \\{(x,y) \\in \\Omega: y=1\\}$, the boundary condition $\\nabla u \\cdot n -iku =g$ equals  $\\partial_y u - iku = g$. We compute $g_{N}$:"
   ]
  },
  {
   "cell_type": "code",
   "execution_count": 111,
   "metadata": {},
   "outputs": [
    {
     "data": {
      "image/png": "[encoded data removed]",
      "text/latex": [
       "$$k \\left(- s \\sin{\\left (k \\left(c x + s\\right) \\right )} + i s \\cos{\\left (k \\left(c x + s\\right) \\right )} + \\sin{\\left (k \\left(c x + s\\right) \\right )} - i \\cos{\\left (k \\left(c x + s\\right) \\right )}\\right)$$"
      ],
      "text/plain": [
       "k⋅(-s⋅sin(k⋅(c⋅x + s)) + ⅈ⋅s⋅cos(k⋅(c⋅x + s)) + sin(k⋅(c⋅x + s)) - ⅈ⋅cos(k⋅(c⋅\n",
       "x + s)))"
      ]
     },
     "execution_count": 111,
     "metadata": {},
     "output_type": "execute_result"
    }
   ],
   "source": [
    "dyu = diff(uex,y)\n",
    "gN  = simplify(dyu-I*k*uex).subs(y,1)\n",
    "gN"
   ]
  },
  {
   "cell_type": "markdown",
   "metadata": {},
   "source": [
    "And we obtain $$g(x,y)=g(x,1) = g_{N}(x)= k(1-s)(\\sin(k(xc+s)) - i\\cos(k(xc+s))),$$ where $s=\\sin(t)$, $c=\\cos(t)$."
   ]
  }
 ],
 "metadata": {
  "kernelspec": {
   "display_name": "Python [default]",
   "language": "python",
   "name": "python3"
  },
  "language_info": {
   "codemirror_mode": {
    "name": "ipython",
    "version": 3
   },
   "file_extension": ".py",
   "mimetype": "text/x-python",
   "name": "python",
   "nbconvert_exporter": "python",
   "pygments_lexer": "ipython3",
   "version": "3.5.3"
  }
 },
 "nbformat": 4,
 "nbformat_minor": 1
}
