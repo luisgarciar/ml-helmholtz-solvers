{
 "cells": [
  {
   "cell_type": "code",
   "execution_count": 2,
   "metadata": {},
   "outputs": [],
   "source": [
    "from IPython.display import display\n",
    "from sympy import *\n",
    "from sympy.interactive import printing\n",
    "printing.init_printing()\n",
    "import sympy as sym\n",
    "\n",
    "u = Symbol(\"\\tilde{u}\",complex=True)\n",
    "k = Symbol(\"k\",real=True,positive=True)\n",
    "x = Symbol(\"x\",real=True)\n",
    "y = Symbol(\"y\",real=True)\n",
    "m = Symbol(\"m\",real=True)\n",
    "n = Symbol(\"n\",real=True)"
   ]
  },
  {
   "cell_type": "markdown",
   "metadata": {},
   "source": [
    "In this notebook we compute given a solution $u$ a right hand side $f$ for the Helmholtz boundary value problem \n",
    "\\begin{align}\n",
    "-\\Delta u-k^2u&=f \\text{ in } \\Omega= (0,1)\\times(0,1) ,\\\\\n",
    "\\nabla u \\cdot n -iku &=g \\text{ on } \\partial\\Omega \\\\\n",
    "\\end{align}\n",
    "\n",
    "Let $u=\\sin(m\\pi  x)^2\\sin(n\\pi y)^2$, then $f=-\\partial_{xx}u-\\partial_{yy}u-k^2u$ is given by"
   ]
  },
  {
   "cell_type": "code",
   "execution_count": 68,
   "metadata": {},
   "outputs": [
    {
     "data": {
      "image/png": "[encoded data removed]",
      "text/latex": [
       "$$\\left(- k^{2} + 2 \\pi^{2}\\right) \\cos{\\left (\\pi x \\right )} \\cos{\\left (\\pi y \\right )}$$"
      ],
      "text/plain": [
       "⎛   2      2⎞                  \n",
       "⎝- k  + 2⋅π ⎠⋅cos(π⋅x)⋅cos(π⋅y)"
      ]
     },
     "execution_count": 68,
     "metadata": {},
     "output_type": "execute_result"
    }
   ],
   "source": [
    "u = cos(pi*x)*cos(pi*y)\n",
    "f = simplify(-diff(u,x,x)-diff(u,y,y)-k**2*u)\n",
    "f"
   ]
  },
  {
   "cell_type": "markdown",
   "metadata": {},
   "source": [
    "The partial derivatives of $u$ are given by:"
   ]
  },
  {
   "cell_type": "code",
   "execution_count": 69,
   "metadata": {},
   "outputs": [
    {
     "data": {
      "image/png": "[encoded data removed]",
      "text/latex": [
       "$$- \\pi \\sin{\\left (\\pi x \\right )} \\cos{\\left (\\pi y \\right )}$$"
      ],
      "text/plain": [
       "-π⋅sin(π⋅x)⋅cos(π⋅y)"
      ]
     },
     "execution_count": 69,
     "metadata": {},
     "output_type": "execute_result"
    }
   ],
   "source": [
    "dxu = diff(u,x)\n",
    "dxu"
   ]
  },
  {
   "cell_type": "code",
   "execution_count": 70,
   "metadata": {},
   "outputs": [
    {
     "data": {
      "image/png": "[encoded data removed]",
      "text/latex": [
       "$$- \\pi \\sin{\\left (\\pi y \\right )} \\cos{\\left (\\pi x \\right )}$$"
      ],
      "text/plain": [
       "-π⋅sin(π⋅y)⋅cos(π⋅x)"
      ]
     },
     "execution_count": 70,
     "metadata": {},
     "output_type": "execute_result"
    }
   ],
   "source": [
    "dyu = diff(u,y)\n",
    "dyu"
   ]
  },
  {
   "cell_type": "code",
   "execution_count": 65,
   "metadata": {},
   "outputs": [],
   "source": [
    "def ux(s,t): \n",
    "    return ((dxu.subs(x,s)).subs(y,t))\n",
    "\n",
    "def uy(s,t): \n",
    "    return ((dyu.subs(x,s)).subs(y,t))"
   ]
  },
  {
   "cell_type": "markdown",
   "metadata": {},
   "source": [
    "With this choice we have $\\nabla u \\cdot n = 0$ on all the boundary $\\partial \\Omega$, so the boundary condition is \n",
    "$iku =g$ on $\\partial\\Omega$\n",
    "\n",
    "\n"
   ]
  }
 ],
 "metadata": {
  "kernelspec": {
   "display_name": "Python [default]",
   "language": "python",
   "name": "python3"
  },
  "language_info": {
   "codemirror_mode": {
    "name": "ipython",
    "version": 3
   },
   "file_extension": ".py",
   "mimetype": "text/x-python",
   "name": "python",
   "nbconvert_exporter": "python",
   "pygments_lexer": "ipython3",
   "version": "3.5.3"
  }
 },
 "nbformat": 4,
 "nbformat_minor": 1
}
