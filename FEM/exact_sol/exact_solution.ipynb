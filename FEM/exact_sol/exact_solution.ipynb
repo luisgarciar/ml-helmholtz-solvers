{
 "metadata": {
  "name": "",
  "signature": "sha256:c042141e80af761df8a69f103456a51ce6fb49391804d565399aafcd7fc0a28a"
 },
 "nbformat": 3,
 "nbformat_minor": 0,
 "worksheets": [
  {
   "cells": [
    {
     "cell_type": "code",
     "collapsed": false,
     "input": [
      "from IPython.display import display\n",
      "from sympy import *\n",
      "from sympy.interactive import printing\n",
      "printing.init_printing()\n",
      "import sympy as sym"
     ],
     "language": "python",
     "metadata": {},
     "outputs": [],
     "prompt_number": 1
    },
    {
     "cell_type": "markdown",
     "metadata": {},
     "source": [
      "In this notebook we compute an exact solution to the Helmholtz boundary value problem\n",
      "\\begin{align}\n",
      "-u''-k^2u&=f \\text{ in } (0,1),\\\\\n",
      "u(0)&=0,\\\\\n",
      "u'(1)-iku(1)&=0.\n",
      "\\end{align}\n",
      "\n",
      "The Green function $G(x,s)$ for this problem (see Ihlenburg & Babuska, 1997) is given by\n",
      "$$G(x,s)= \\frac{1}{k} \\begin{cases} \\sin(kx)e^{iks}, &0 \\leq x \\leq s,\\\\ \n",
      "\\sin(ks)e^{ikx} & s \\leq x \\leq 1.\n",
      "\\end{cases} $$\n",
      "\n",
      "We compute an exact solution to this problem for the right hand side $\\tilde{f}=1$. The solution is given by\n",
      "\\begin{align*}\n",
      "\\tilde{u}(x)= \\int_{0}^{1}G(x,s)\\, ds&= \\int_{0}^{x}G(x,s)\\, ds+ \\int_{x}^{1}G(x,s)\\, ds \\\\\n",
      "&= \\frac{e^{iks}}{k}\\int_{0}^{x}\\sin(ks) \\, ds + \\frac{\\sin(kx)}{k}\\int_{x}^{1}e^{iks}\\, ds\n",
      "\\end{align*}"
     ]
    },
    {
     "cell_type": "code",
     "collapsed": false,
     "input": [
      "u = Symbol(\"\\tilde{u}\",complex=True)\n",
      "k = Symbol(\"k\",real=True,positive=True)\n",
      "s = Symbol(\"s\",real=True)\n",
      "x = Symbol(\"x\",real=True)"
     ],
     "language": "python",
     "metadata": {},
     "outputs": [],
     "prompt_number": 38
    },
    {
     "cell_type": "code",
     "collapsed": false,
     "input": [
      "u1 = (exp(I*k*x)/k)*integrate(sin(k*s),(s,0,x))\n",
      "u2 = (sin(k*x)/k)*integrate(exp(I*k*s),(s,x,1))\n",
      "u = u1+u2"
     ],
     "language": "python",
     "metadata": {},
     "outputs": [],
     "prompt_number": 39
    },
    {
     "cell_type": "markdown",
     "metadata": {},
     "source": [
      "A closed expression for the solution $\\tilde{u}$ is"
     ]
    },
    {
     "cell_type": "code",
     "collapsed": false,
     "input": [
      "collect(simplify(expand(u)),exp(I*k*x))"
     ],
     "language": "python",
     "metadata": {},
     "outputs": [
      {
       "latex": [
        "$$\\frac{1}{k^{2}} \\left(\\left(i \\sin{\\left (k x \\right )} - \\cos{\\left (k x \\right )} + 1\\right) e^{i k x} - i e^{i k} \\sin{\\left (k x \\right )}\\right)$$"
       ],
       "metadata": {},
       "output_type": "pyout",
       "png": "[encoded data removed]",
       "prompt_number": 40,
       "text": [
        "                             \u2148\u22c5k\u22c5x      \u2148\u22c5k         \n",
        "(\u2148\u22c5sin(k\u22c5x) - cos(k\u22c5x) + 1)\u22c5\u212f      - \u2148\u22c5\u212f   \u22c5sin(k\u22c5x)\n",
        "\u2500\u2500\u2500\u2500\u2500\u2500\u2500\u2500\u2500\u2500\u2500\u2500\u2500\u2500\u2500\u2500\u2500\u2500\u2500\u2500\u2500\u2500\u2500\u2500\u2500\u2500\u2500\u2500\u2500\u2500\u2500\u2500\u2500\u2500\u2500\u2500\u2500\u2500\u2500\u2500\u2500\u2500\u2500\u2500\u2500\u2500\u2500\u2500\u2500\u2500\u2500\u2500\n",
        "                          2                         \n",
        "                         k                          "
       ]
      }
     ],
     "prompt_number": 40
    },
    {
     "cell_type": "markdown",
     "metadata": {},
     "source": [
      "We check now that $\\tilde{u}$ satisfies the equation $\\tilde{u}''-k^2\\tilde{u}=1$ and the boundary conditions: "
     ]
    },
    {
     "cell_type": "code",
     "collapsed": false,
     "input": [
      "simplify(-diff(u,x,x)-(k**2)*u)"
     ],
     "language": "python",
     "metadata": {},
     "outputs": [
      {
       "latex": [
        "$$1$$"
       ],
       "metadata": {},
       "output_type": "pyout",
       "png": "[encoded data removed]",
       "prompt_number": 26,
       "text": [
        "1"
       ]
      }
     ],
     "prompt_number": 26
    },
    {
     "cell_type": "code",
     "collapsed": false,
     "input": [
      "u.subs(x,0)"
     ],
     "language": "python",
     "metadata": {},
     "outputs": [
      {
       "latex": [
        "$$0$$"
       ],
       "metadata": {},
       "output_type": "pyout",
       "png": "[encoded data removed]",
       "prompt_number": 42,
       "text": [
        "0"
       ]
      }
     ],
     "prompt_number": 42
    },
    {
     "cell_type": "code",
     "collapsed": false,
     "input": [
      "diff(u,x).subs(x,1)-I*k*u.subs(x,1)"
     ],
     "language": "python",
     "metadata": {},
     "outputs": [
      {
       "latex": [
        "$$0$$"
       ],
       "metadata": {},
       "output_type": "pyout",
       "png": "[encoded data removed]",
       "prompt_number": 45,
       "text": [
        "0"
       ]
      }
     ],
     "prompt_number": 45
    },
    {
     "cell_type": "code",
     "collapsed": false,
     "input": [
      "N(u.subs([(k, 10), (x, 0.5)]))"
     ],
     "language": "python",
     "metadata": {},
     "outputs": [
      {
       "latex": [
        "$$-0.0019466276537575 - 0.0176353033207327 i$$"
       ],
       "metadata": {},
       "output_type": "pyout",
       "png": "[encoded data removed]",
       "prompt_number": 48,
       "text": [
        "-0.0019466276537575 - 0.0176353033207327\u22c5\u2148"
       ]
      }
     ],
     "prompt_number": 48
    },
    {
     "cell_type": "code",
     "collapsed": false,
     "input": [],
     "language": "python",
     "metadata": {},
     "outputs": []
    }
   ],
   "metadata": {}
  }
 ]
}