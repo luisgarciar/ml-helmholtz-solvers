{
 "cells": [
  {
   "cell_type": "markdown",
   "metadata": {},
   "source": [
    "In this notebook we compute the field of values of preconditioned matrices arising from the discretization of the 1D Helmholtz equation\n",
    "\n",
    "\\begin{equation*}\n",
    "\t-u'' -k^2u = f \\text{ in } (0,1)\n",
    "\\end{equation*}\n",
    "with mixed boundary conditions of the form\n",
    "\n",
    "\\begin{align*}\n",
    "u(0)&=0\\\\\n",
    "u'(1)-iku(1)&=0\n",
    "\\end{align*}\n",
    "\n",
    "As a preconditioner we use the shifted Laplacian, which results from the discretization of the problem\n",
    "\n",
    "\\begin{equation*}\n",
    "\t-u'' -(k^2+i\\epsilon)u = f \\text{ in } (0,1)\n",
    "\\end{equation*}\n",
    "with mixed boundary conditions of the form\n",
    "\\begin{align*}\n",
    "u(0)&=0\\\\\n",
    "u'(1)-iku(1)&=0\n",
    "\\end{align*}\n",
    "\n",
    "\n",
    "where $\\epsilon$ is a real parameter. We discretize the Helmholtz and shifted Laplace problems with P1 finite elements and obtain matrices $A$ and $A_\\epsilon$. The preconditioned Helmholtz problem\n",
    "\n",
    "$AA_{\\epsilon}^{-1}x=b$\n",
    "is then solved with a Krylov subspace method. The following plot shows the spectrum\n"
   ]
  },
  {
   "cell_type": "code",
   "execution_count": 12,
   "metadata": {
    "collapsed": false
   },
   "outputs": [
    {
     "data": {
      "image/png": "[encoded data removed]",
      "text/plain": [
       "<IPython.core.display.Image object>"
      ]
     },
     "metadata": {},
     "output_type": "display_data"
    }
   ],
   "source": [
    "dim = 1;\n",
    "k   = 20;\n",
    "ppw = 12;\n",
    "npc = 4;\n",
    "eps = 0.5*k^2;\n",
    "[npf,lev] = fem_npc_to_npf(npc,k,ppw);\n",
    "A = helmholtzfem(k,npf,0); %Helmholtz matrix\n",
    "A_eps = helmholtzfem(k,npf,eps); %Shifted Laplace matrix\n",
    "\n",
    "eigv = eig(full(A_eps\\A));\n",
    "\n",
    "[FV_A, eigA_ASl] = fv(B,1,32);\n",
    "\n",
    "\n",
    "plot(real(eigv),imag(eigv),'*b','MarkerSize',6);\n",
    "axis([0 1 -0.5 0.5])\n",
    "xlabel('real(\\lambda)','FontSize',10)\n",
    "ylabel('imag(\\lambda)','FontSize',10)\n",
    "title('Spectrum for k=20, ppw=12, eps=0.5k^2')\n",
    "\n",
    "\n",
    "\n",
    "\n",
    "% % \n",
    "% % R = fwrestrictionfem(npf,dim);\n",
    "% % Z = R'; %Prolongation. Deflation subspace: columns of Z\n",
    "% % dim_def = size(Z,2);\n",
    "% \n",
    "% % Field of values of restricted matrix \n",
    "% %To compute the field of values of the restricted matrix\n",
    "% %(ADEF) we need a basis Y for the orthogonal complement of\n",
    "% %the columns of Z, i.e., the nullspace of R.\n",
    "% \n",
    "% % Y = null(full(R));\n",
    "% % \n",
    "% % %Restricted matrix\n",
    "% % Ainvc = (Y'*(A\\Y));\n",
    "% % %Restricted ADEF matrix (only upper block)\n",
    "% % B     = (Y'*(M\\Y))*((Y'*(A\\Y))\\speye(length(Ainvc))); \n",
    "% % [FV_B, eigB] = fv(B,1,32);\n",
    "% % \n",
    "% % %Explicit Deflation operator\n",
    "% % Q = Z*((Z'*A*Z)\\Z');\n",
    "% %  \n",
    "% % %Deflated-shifted Operator PadefA\n",
    "% % PadefA =  M\\(A-A*Z*((Z'*A*Z)\\Z'*A))+ Z*((Z'*A*Z)\\Z'*A);\n",
    "% % \n",
    "% % [U,R] = qr(Z,0);\n",
    "% % Porth = U*U';\n",
    "% % \n",
    "% % I = eye(length(A));\n",
    "% % %PadefAcorr = PadefA-Porth*PadefA*(I-Porth);\n",
    "% % PadefAcorr = (I-Porth)*PadefA + Porth;\n",
    "% % \n",
    "% % %Plots\n",
    "% % %Field of values of PadefA\n",
    "% % [FV_PadefA, eigPadefA] = fv(full(PadefA),1,32,1);\n",
    "% % [FV_PadefAcorr, eigPadefAcorr] = fv(full(PadefAcorr),1,32,1);\n",
    "% \n",
    "% \n",
    "% % plot(real(FV_PadefA), imag(FV_PadefA),'b') %Plot the FOV of Padef\n",
    "% % %plot(real(eigPadefA), imag(eigPadefA), 'r+')    %Plot the eigenvalues too.\n",
    "% % axis('equal');\n",
    "% % hold on\n",
    "% % plot(real(FV_PadefAcorr), imag(FV_PadefAcorr),'k+')  %Plot the FOV of Padefcorr\n",
    "% % %plot(real(eigPadefAcorr), imag(eigPadefAcorr), 'x')    %Plot the eigenvalues too.\n",
    "% % plot(real(FV_B),imag(FV_B),'r')               %Plot the field of values of B\n",
    "% % %plot(real(eigB),imag(eigB), 'k.')    %Plot the eigenvalues too.\n",
    "% % %plot(0,0,'+k')"
   ]
  },
  {
   "cell_type": "code",
   "execution_count": null,
   "metadata": {
    "collapsed": true
   },
   "outputs": [],
   "source": []
  }
 ],
 "metadata": {
  "anaconda-cloud": {},
  "kernelspec": {
   "display_name": "Matlab",
   "language": "matlab",
   "name": "matlab"
  },
  "language_info": {
   "codemirror_mode": "octave",
   "file_extension": ".m",
   "help_links": [
    {
     "text": "MetaKernel Magics",
     "url": "https://github.com/calysto/metakernel/blob/master/metakernel/magics/README.md"
    }
   ],
   "mimetype": "text/x-matlab",
   "name": "matlab",
   "version": "0.8.0"
  }
 },
 "nbformat": 4,
 "nbformat_minor": 0
}
